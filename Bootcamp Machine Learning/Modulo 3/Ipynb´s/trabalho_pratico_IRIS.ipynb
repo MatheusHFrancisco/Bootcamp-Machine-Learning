{
  "nbformat": 4,
  "nbformat_minor": 0,
  "metadata": {
    "colab": {
      "name": "trabalho_pratico_IRIS.ipynb",
      "provenance": [],
      "collapsed_sections": []
    },
    "kernelspec": {
      "name": "python3",
      "display_name": "Python 3"
    }
  },
  "cells": [
    {
      "cell_type": "markdown",
      "metadata": {
        "id": "N3_ugmhLc0s2",
        "colab_type": "text"
      },
      "source": [
        "## Trabalho Prático - Módulo 3 - Machine Learning\n",
        "##### **Com respotas do questionário**"
      ]
    },
    {
      "cell_type": "markdown",
      "metadata": {
        "id": "xbwJWsiNMY9b",
        "colab_type": "text"
      },
      "source": [
        "## Objetivo:\n",
        "* Análise exploratória dos dados (EDA - Exploratory Data Analysis).\n",
        "* Preparação dos dados.\n",
        "* Comparação e ajuste de modelos de classificação.\n"
      ]
    },
    {
      "cell_type": "markdown",
      "metadata": {
        "id": "RMktEpbWcpP2",
        "colab_type": "text"
      },
      "source": [
        "Dataset: https://scikit-learn.org/stable/modules/generated/sklearn.datasets.load_iris.html"
      ]
    },
    {
      "cell_type": "markdown",
      "metadata": {
        "id": "Fwj3Bnu2dXRK",
        "colab_type": "text"
      },
      "source": [
        "**Iris Data Set**<br>\n",
        "Description\n",
        "\n",
        "This is perhaps the best known database to be found in the pattern recognition literature. Fisher's paper is a classic in the field and is referenced frequently to this day. (See Duda & Hart, for example.) The data set contains 3 classes of 50 instances each, where each class refers to a type of iris plant. One class is linearly separable from the other 2; the latter are NOT linearly separable from each other.\n",
        "\n",
        "Predicted attribute: class of iris plant.\n",
        "\n",
        "This is an exceedingly simple domain"
      ]
    },
    {
      "cell_type": "markdown",
      "metadata": {
        "id": "ErCzLPqseEoQ",
        "colab_type": "text"
      },
      "source": [
        "Attribute Information:\n",
        "\n",
        "1. sepal length in cm\n",
        "2. sepal width in cm\n",
        "3. petal length in cm\n",
        "4. petal width in cm\n",
        "5. class:\n",
        "- -- Iris Setosa\n",
        "- -- Iris Versicolour\n",
        "- -- Iris Virginica\n",
        "\n"
      ]
    },
    {
      "cell_type": "markdown",
      "metadata": {
        "id": "hdb3p3zyHlE5",
        "colab_type": "text"
      },
      "source": [
        "|                   |                | \n",
        "| ----------------- |:--------------:| \n",
        "| Classes           | 3              |\n",
        "| Samples per class | 50             |\n",
        "| Samples total     | 150            |\n",
        "| Dimensionality    | 4              |\n",
        "| Features          | real, positive |\n",
        "\n",
        "\n",
        "\n"
      ]
    },
    {
      "cell_type": "markdown",
      "metadata": {
        "id": "YjqVWIWEfQeg",
        "colab_type": "text"
      },
      "source": [
        "## Questionário"
      ]
    },
    {
      "cell_type": "code",
      "metadata": {
        "id": "XkAa6kElhAz9",
        "colab_type": "code",
        "colab": {}
      },
      "source": [
        "# importando as bibliotecas\n",
        "\n",
        "import warnings\n",
        "warnings.filterwarnings(\"ignore\")\n",
        "\n",
        "import pandas as pd \n",
        "import numpy as np \n",
        "import seaborn as sns\n",
        "import matplotlib.pyplot as plt \n",
        "\n",
        "from sklearn import datasets\n",
        "from sklearn.decomposition import PCA"
      ],
      "execution_count": null,
      "outputs": []
    },
    {
      "cell_type": "code",
      "metadata": {
        "id": "xfdf1y6LGJbI",
        "colab_type": "code",
        "colab": {
          "base_uri": "https://localhost:8080/",
          "height": 34
        },
        "outputId": "b76fb369-b9a8-44e0-f449-df4652f1ccd7"
      },
      "source": [
        "iris = datasets.load_iris()\n",
        "X = iris.data[:, :2] # peegamos as duas primeiras features aqui. Pegue as outras se quiser\n",
        "y = iris.target\n",
        "\n",
        "y[0] # classe do primeiro elemento\n",
        "X[:1, :] # primeiro elemento a classificar"
      ],
      "execution_count": null,
      "outputs": [
        {
          "output_type": "execute_result",
          "data": {
            "text/plain": [
              "array([[5.1, 3.5]])"
            ]
          },
          "metadata": {
            "tags": []
          },
          "execution_count": 2
        }
      ]
    },
    {
      "cell_type": "code",
      "metadata": {
        "id": "ojNKlYWSPt3p",
        "colab_type": "code",
        "colab": {
          "base_uri": "https://localhost:8080/",
          "height": 34
        },
        "outputId": "a0292e9f-d359-42a2-ff1a-b03e46ef37a8"
      },
      "source": [
        "list(iris.target_names)"
      ],
      "execution_count": null,
      "outputs": [
        {
          "output_type": "execute_result",
          "data": {
            "text/plain": [
              "['setosa', 'versicolor', 'virginica']"
            ]
          },
          "metadata": {
            "tags": []
          },
          "execution_count": 3
        }
      ]
    },
    {
      "cell_type": "code",
      "metadata": {
        "id": "QFzhIt5BP28h",
        "colab_type": "code",
        "colab": {
          "base_uri": "https://localhost:8080/",
          "height": 34
        },
        "outputId": "ae33fa21-8935-4481-ca58-d31fa298ff74"
      },
      "source": [
        "iris.target[[10, 25, 50]]"
      ],
      "execution_count": null,
      "outputs": [
        {
          "output_type": "execute_result",
          "data": {
            "text/plain": [
              "array([0, 0, 1])"
            ]
          },
          "metadata": {
            "tags": []
          },
          "execution_count": 4
        }
      ]
    },
    {
      "cell_type": "markdown",
      "metadata": {
        "id": "t0TZOhmxm9Sl",
        "colab_type": "text"
      },
      "source": [
        "4#### Pergunta 1\n",
        "O problema apresentado é de qual tipo?\n",
        "\n",
        "- Regressão.\n",
        "\n",
        "- Classificação multilabel.\n",
        "\n",
        "- ***Classificação single label.***\n",
        "\n",
        "- Agrupamento."
      ]
    },
    {
      "cell_type": "markdown",
      "metadata": {
        "id": "hOMXyr-UzQNI",
        "colab_type": "text"
      },
      "source": [
        "- um problema de classificação requer que os dados sejam classificados em duas ou mais classes. Se o problema possui duas classes, ele é chamado de problema de classificação binário, e se possui mais de duas classes, é chamado de problema de classificação multi-class (multiclasse) ou multilsbrl. Um exemplo de um problema de classificação binário seria você escolher comprar ou não um item da livraria (1 para “livro comprado” e 0 para “livro não comprado”)."
      ]
    },
    {
      "cell_type": "code",
      "metadata": {
        "id": "wbuFGDM01blw",
        "colab_type": "code",
        "colab": {
          "base_uri": "https://localhost:8080/",
          "height": 34
        },
        "outputId": "03c5b7f1-a33f-48e6-8a0a-7d495099e3d1"
      },
      "source": [
        "list(iris.target_names)"
      ],
      "execution_count": null,
      "outputs": [
        {
          "output_type": "execute_result",
          "data": {
            "text/plain": [
              "['setosa', 'versicolor', 'virginica']"
            ]
          },
          "metadata": {
            "tags": []
          },
          "execution_count": 5
        }
      ]
    },
    {
      "cell_type": "markdown",
      "metadata": {
        "id": "8HpNTK2ISXIR",
        "colab_type": "text"
      },
      "source": [
        "#### Pergunta 2\n",
        "Qual dos algoritmos abaixo não seria adequado para resolver o problema?\n",
        "\n",
        "- sklearn.neighbors.KNeighborsClassifier\n",
        "\n",
        "- ***sklearn.linear_model.LinearRegression***\n",
        "\n",
        "- sklearn.ensemble.AdaBoostClassifier\n",
        "\n",
        "- sklearn.ensemble.RandomForestClassifier"
      ]
    },
    {
      "cell_type": "markdown",
      "metadata": {
        "id": "2Y28WXoU4ooT",
        "colab_type": "text"
      },
      "source": [
        "- KNN é uma técnica amplamente empregada para reconhecer padrões. O centro de seu funcionamento está em descobrir o vizinho mais próximo de uma dada instância.\n",
        "- Lenear Regression -  regressão linear é uma equação para se estimar a condicional (valor esperado) de uma variável y, dados os valores de algumas outras variáveis x. (https://www.fm2s.com.br/regressao-linear-economizar-milhoes/)\n",
        "- AdaBoost -  É um algoritmo meta-heurístico, e pode ser utilizado para aumentar a performance de outros algoritmos de aprendizagem. O nome \"AdaBoost\" deriva de Adaptive Boosting (em português, impulso ou estímulo adaptativo)\n",
        "- Random Forest significa floresta aleatória. Este nome explica muito bem o funcionamento do algoritmo, que irá criar muitas árvores de decisão, de maneira aleatória, formando o que podemos enxergar como uma floresta, onde cada árvore será utilizada na escolha do resultado final."
      ]
    },
    {
      "cell_type": "markdown",
      "metadata": {
        "colab_type": "text",
        "id": "hlOM_OKDScl2"
      },
      "source": [
        "#### Pergunta 3\n",
        "Relacionado ao algoritmo sklearn.neighbors.KNeighborsClassifier, para o parâmetro “algorithm”, o que podemos afirmar acerca de uma potencial otimização desse hiperparâmetro?\n",
        "\n",
        "- Temos até cinco valores para a otimização explorar.\n",
        "\n",
        "- ***Temos até três valores para a otimização explorar.***\n",
        "\n",
        "- Temos até seis valores para a otimização explorar.\n",
        "\n",
        "- Temos até quatro valores para a otimização explorar."
      ]
    },
    {
      "cell_type": "markdown",
      "metadata": {
        "id": "iXBF93vm84li",
        "colab_type": "text"
      },
      "source": [
        "class sklearn.neighbors.KNeighborsClassifier(n_neighbors=5, *, weights='uniform', algorithm='auto', leaf_size=30, p=2, metric='minkowski', metric_params=None, n_jobs=None, **kwargs)\n",
        "\n",
        "algorithm{‘auto’, ‘ball_tree’, ‘kd_tree’, ‘brute’}, default=’auto’\n",
        "Algorithm used to compute the nearest neighbors:\n",
        " \n",
        "- ‘ball_tree’ will use BallTree\n",
        "\n",
        "- ‘kd_tree’ will use KDTree\n",
        "\n",
        "- ‘brute’ will use a brute-force search.\n",
        "\n",
        "- ‘auto’ will attempt to decide the most appropriate algorithm based on the values passed to fit method.\n",
        "\n",
        "Note: fitting on sparse input will override the setting of this parameter, using brute force."
      ]
    },
    {
      "cell_type": "markdown",
      "metadata": {
        "colab_type": "text",
        "id": "OHA2b1gKScyl"
      },
      "source": [
        "#### Pergunta 4\n",
        "Quantas classes o dataset do trabalho tem?\n",
        "\n",
        "- Quatro.\n",
        "\n",
        "- ***Três.***\n",
        "\n",
        "- Duas.\n",
        "\n",
        "- Cinco."
      ]
    },
    {
      "cell_type": "code",
      "metadata": {
        "id": "YFrlofhY9yF_",
        "colab_type": "code",
        "colab": {
          "base_uri": "https://localhost:8080/",
          "height": 34
        },
        "outputId": "cbabc013-a3ba-4908-ed00-4561a58f7a29"
      },
      "source": [
        "list(iris.target_names)"
      ],
      "execution_count": null,
      "outputs": [
        {
          "output_type": "execute_result",
          "data": {
            "text/plain": [
              "['setosa', 'versicolor', 'virginica']"
            ]
          },
          "metadata": {
            "tags": []
          },
          "execution_count": 6
        }
      ]
    },
    {
      "cell_type": "markdown",
      "metadata": {
        "colab_type": "text",
        "id": "-kyHrb1ASc6d"
      },
      "source": [
        "#### Pergunta 5\n",
        "Qual é o total de amostras que o dataset possui?\n",
        "\n",
        "- 138.\n",
        "\n",
        "- 180.\n",
        "\n",
        "- ***150.***\n",
        "\n",
        "- 165."
      ]
    },
    {
      "cell_type": "code",
      "metadata": {
        "id": "yPJdtll2-Kqi",
        "colab_type": "code",
        "colab": {
          "base_uri": "https://localhost:8080/",
          "height": 34
        },
        "outputId": "daf60b9f-20ed-4958-f34b-e53021f8a840"
      },
      "source": [
        "iris.data.shape"
      ],
      "execution_count": null,
      "outputs": [
        {
          "output_type": "execute_result",
          "data": {
            "text/plain": [
              "(150, 4)"
            ]
          },
          "metadata": {
            "tags": []
          },
          "execution_count": 10
        }
      ]
    },
    {
      "cell_type": "markdown",
      "metadata": {
        "id": "Rn-NTQjiLDQP",
        "colab_type": "text"
      },
      "source": [
        "#### Pergunta 6\n",
        "Para o algoritmo sklearn.ensemble.RandomForestClassifier, a sintaxe para chamar o algoritmo GridSearchCV sobre o intervalo de “5 a 300” do parâmetro “n_estimators”, para otimização, seria:\n",
        "\n",
        "- params = {'n_estimators': {5, 300}}\n",
        "\n",
        "- ***params = {'n_estimators': [5, 300]}***\n",
        "\n",
        "- params = [5, 300]\n",
        "\n",
        "- params: { ’n_estimators’: [5, 300] }"
      ]
    },
    {
      "cell_type": "markdown",
      "metadata": {
        "id": "V8oQT36dLFM6",
        "colab_type": "text"
      },
      "source": [
        "#### Pergunta 7\n",
        "Qual é a métrica de qualidade mais adequada para a resolução desse problema?\n",
        "\n",
        "- F-Score.\n",
        "\n",
        "- Recall.\n",
        "\n",
        "- Precisão.\n",
        "\n",
        "- ***Acurácia.***"
      ]
    },
    {
      "cell_type": "markdown",
      "metadata": {
        "id": "MKE3tMYyLGzj",
        "colab_type": "text"
      },
      "source": [
        "#### Pergunta 8\n",
        "Qual técnica de validação cruzada seria mais computacionalmente eficiente para resolver esse problema?\n",
        "\n",
        "- K-Fold Cross Validation.\n",
        "\n",
        "- Nenhuma das alternativas.\n",
        "\n",
        "- ***Divisão treino-teste.***\n",
        "\n",
        "- Leave P Out."
      ]
    },
    {
      "cell_type": "markdown",
      "metadata": {
        "id": "Ex7i7d1QLIeC",
        "colab_type": "text"
      },
      "source": [
        "#### Pergunta 9\n",
        "Com quantos parâmetros o algoritmo de busca exaustiva em grid, GridSearchCV, pode funcionar?\n",
        "\n",
        "- Dois.\n",
        "\n",
        "- Três.\n",
        "\n",
        "- Não mais que metade dos parâmetros de um algoritmo.\n",
        "\n",
        "- ***Quantos forem necessários.***"
      ]
    },
    {
      "cell_type": "markdown",
      "metadata": {
        "id": "igr9bB68DOP6",
        "colab_type": "text"
      },
      "source": [
        "two grids should be explored: one with a linear kernel and the second one with an RBF kernel."
      ]
    },
    {
      "cell_type": "markdown",
      "metadata": {
        "id": "i3PHjctzLJlV",
        "colab_type": "text"
      },
      "source": [
        "#### Pergunta 10\n",
        "Sobre o meu algoritmo, para rodar a otimização de hiperparâmetros e a validação cruzada, é necessário que eu:\n",
        "\n",
        "- Rode primeiro o GridSearchCV depois o cross_val_score.\n",
        "\n",
        "- Rode o GridSearchCV e o cross_val_score em qualquer ordem.\n",
        "\n",
        "- ***Rode o GridSearchCV.***\n",
        "\n",
        "- Rode primeiro o cross_val_score e depois o GridSearchCV."
      ]
    },
    {
      "cell_type": "markdown",
      "metadata": {
        "id": "w7MUauoMLMA6",
        "colab_type": "text"
      },
      "source": [
        "#### Pergunta 11\n",
        "A validação cruzada…\n",
        "\n",
        "- É uma técnica melhor que a otimização de hiperparâmetros para otimizar os modelos buscados.\n",
        "\n",
        "- Cruza dados de modelos diferentes.\n",
        "\n",
        "- Encontra o melhor modelo para um determinado conjunto de dados.\n",
        "\n",
        "- ***Simula uma situação em que meu modelo está diante de dados desconhecidos para auferir seu provável desempenho quando diante do mundo real.***"
      ]
    },
    {
      "cell_type": "markdown",
      "metadata": {
        "id": "CNH5eYmFLM_w",
        "colab_type": "text"
      },
      "source": [
        "#### Pergunta 12\n",
        "A otimização de hiperparâmetros:\n",
        "\n",
        "- ***Encontra a melhor (ou uma das melhores) configuração para rodar determinado algoritmo que gerará um modelo.***\n",
        "\n",
        "- Busca, diretamente, pelos melhores parâmetros de um modelo.\n",
        "\n",
        "- Retorna, em todas as suas versões, o melhor conjunto de hiperparametros possível para determinado algoritmo.\n",
        "\n",
        "- É mais importante que a validação cruzada na busca de um bom modelo."
      ]
    },
    {
      "cell_type": "markdown",
      "metadata": {
        "id": "CL12Dh-FLN-q",
        "colab_type": "text"
      },
      "source": [
        "#### Pergunta 13\n",
        "A validação cruzada:\n",
        "\n",
        "- ***Funciona para quaisquer tipos de modelos.***\n",
        "\n",
        "- Só funciona para conjuntos de dados de até mil elementos.\n",
        "\n",
        "- Só funciona para comparar, no máximo, três modelos diferentes.\n",
        "\n",
        "- Só funciona para problemas classificação."
      ]
    },
    {
      "cell_type": "markdown",
      "metadata": {
        "id": "-eB0MItXLO-I",
        "colab_type": "text"
      },
      "source": [
        "#### Pergunta 14\n",
        "A otimização de hiperparâmetros...\n",
        "\n",
        "- Só funciona para conjuntos de dados de até mil elementos.\n",
        "\n",
        "- Só funciona para comparar, no máximo, três modelos diferentes.\n",
        "\n",
        "- ***Funciona para quaisquer tipos de modelos.***\n",
        "\n",
        "- Só funciona para problemas classificação."
      ]
    },
    {
      "cell_type": "markdown",
      "metadata": {
        "id": "NGw5HmO8LP5h",
        "colab_type": "text"
      },
      "source": [
        "#### Pergunta 15\n",
        "Uma vez gerado e colocado em produção, o seu modelo…\n",
        "\n",
        "- Não deve ser retrabalhado com mais dados.\n",
        "\n",
        "- ***Pode ser reavaliado no futuro, quando diante de novos dados ou situações problema.***\n",
        "\n",
        "- Está em sua versão final e só faz sentido ser substituído por um modelo de um outro algoritmo.\n",
        "\n",
        "- Não pode mais ser otimizado via hiperparâmetros, nem quando diante de mais dados."
      ]
    }
  ]
}