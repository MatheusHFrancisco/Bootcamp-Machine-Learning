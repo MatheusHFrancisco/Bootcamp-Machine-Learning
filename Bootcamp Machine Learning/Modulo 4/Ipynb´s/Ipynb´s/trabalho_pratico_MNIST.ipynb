{
  "nbformat": 4,
  "nbformat_minor": 0,
  "metadata": {
    "colab": {
      "name": "trabalho_pratico_MNIST.ipynb",
      "provenance": [],
      "collapsed_sections": [
        "xbwJWsiNMY9b",
        "0U7LAXmukJE6"
      ]
    },
    "kernelspec": {
      "name": "python3",
      "display_name": "Python 3"
    }
  },
  "cells": [
    {
      "cell_type": "markdown",
      "metadata": {
        "id": "N3_ugmhLc0s2",
        "colab_type": "text"
      },
      "source": [
        "## Trabalho Prático - Módulo 4 - Machine Learning\n",
        "##### **Com respotas do questionário**"
      ]
    },
    {
      "cell_type": "markdown",
      "metadata": {
        "id": "xbwJWsiNMY9b",
        "colab_type": "text"
      },
      "source": [
        "## Objetivo:\n",
        "* Análise exploratória dos dados (EDA - Exploratory Data Analysis).\n",
        "* Preparação dos dados.\n",
        "* Comparação e ajuste de modelos de classificação.\n"
      ]
    },
    {
      "cell_type": "markdown",
      "metadata": {
        "id": "RMktEpbWcpP2",
        "colab_type": "text"
      },
      "source": [
        "Dataset: https://www.tensorflow.org/tutorials/keras/classification?hl=pt-br \n"
      ]
    },
    {
      "cell_type": "markdown",
      "metadata": {
        "id": "Fwj3Bnu2dXRK",
        "colab_type": "text"
      },
      "source": [
        "**The Fashion MNIST Database**<br>\n",
        "Descrição\n",
        "\n",
        "Este tutorial treina um modelo de rede neural para classificação de imagens de roupas, como tênis e camisetas. Tudo bem se você não entender todos os detalhes; este é um visão geral de um programa do TensorFlow com detalhes explicados enquanto progredimos.\n"
      ]
    },
    {
      "cell_type": "markdown",
      "metadata": {
        "id": "0U7LAXmukJE6",
        "colab_type": "text"
      },
      "source": [
        "## Tutorial - Treine sua primeira rede neural: classificação básica"
      ]
    },
    {
      "cell_type": "code",
      "metadata": {
        "id": "D7RO38DoBTgv",
        "colab_type": "code",
        "colab": {
          "base_uri": "https://localhost:8080/",
          "height": 34
        },
        "outputId": "5045f156-d2ef-462d-aa47-9d7ea7b79ff4"
      },
      "source": [
        "# importando as bibliotecas\n",
        "\n",
        "import warnings\n",
        "warnings.filterwarnings(\"ignore\")\n",
        "\n",
        "import numpy as np\n",
        "import matplotlib.pyplot as plt\n",
        "\n",
        "import tensorflow as tf\n",
        "from tensorflow import keras\n",
        "\n",
        "print(tf.__version__)"
      ],
      "execution_count": null,
      "outputs": [
        {
          "output_type": "stream",
          "text": [
            "2.3.0\n"
          ],
          "name": "stdout"
        }
      ]
    },
    {
      "cell_type": "code",
      "metadata": {
        "id": "ve85uwGW8xvZ",
        "colab_type": "code",
        "colab": {}
      },
      "source": [
        "# Fashion MNIST Dataset\n",
        "fashion_mnist = keras.datasets.fashion_mnist"
      ],
      "execution_count": null,
      "outputs": []
    },
    {
      "cell_type": "code",
      "metadata": {
        "id": "1hv7Od5C-IW6",
        "colab_type": "code",
        "colab": {}
      },
      "source": [
        "# Carregando a base de dados que retorna quatro NumPy arrays\n",
        "(train_images, train_labels), (test_images, test_labels) = fashion_mnist.load_data()"
      ],
      "execution_count": null,
      "outputs": []
    },
    {
      "cell_type": "code",
      "metadata": {
        "id": "BFJGnqAihAmp",
        "colab_type": "code",
        "colab": {}
      },
      "source": [
        "class_names = ['T-shirt/top', 'Trouser', 'Pullover', 'Dress', 'Coat',\n",
        "               'Sandal', 'Shirt', 'Sneaker', 'Bag', 'Ankle boot']"
      ],
      "execution_count": null,
      "outputs": []
    },
    {
      "cell_type": "markdown",
      "metadata": {
        "id": "JMCnvQLF1gSK",
        "colab_type": "text"
      },
      "source": [
        "#### Explore os dados"
      ]
    },
    {
      "cell_type": "code",
      "metadata": {
        "id": "5dY0gqn-MqIb",
        "colab_type": "code",
        "colab": {
          "base_uri": "https://localhost:8080/",
          "height": 51
        },
        "outputId": "feafa0e0-a539-49ea-c88f-c2f3cc6ed22b"
      },
      "source": [
        "print(f'train images: {len(train_images)} \\ntest images:  {len(test_images)}')"
      ],
      "execution_count": null,
      "outputs": [
        {
          "output_type": "stream",
          "text": [
            "train images: 60000 \n",
            "test images:  10000\n"
          ],
          "name": "stdout"
        }
      ]
    },
    {
      "cell_type": "code",
      "metadata": {
        "id": "9Qwj2J63hFve",
        "colab_type": "code",
        "colab": {
          "base_uri": "https://localhost:8080/",
          "height": 34
        },
        "outputId": "3aeb1d43-5791-4224-cf0b-846da8d35062"
      },
      "source": [
        "# conjunto de treinamento, e cada imagem é representada em 28 x 28 pixels\n",
        "train_images.shape"
      ],
      "execution_count": null,
      "outputs": [
        {
          "output_type": "execute_result",
          "data": {
            "text/plain": [
              "(60000, 28, 28)"
            ]
          },
          "metadata": {
            "tags": []
          },
          "execution_count": 11
        }
      ]
    },
    {
      "cell_type": "code",
      "metadata": {
        "id": "8XoN1zus11H9",
        "colab_type": "code",
        "colab": {
          "base_uri": "https://localhost:8080/",
          "height": 34
        },
        "outputId": "1ec8cc72-73ea-439d-a856-f488eba645ca"
      },
      "source": [
        "# Cada label é um inteiro entre 0 e 9\n",
        "train_labels"
      ],
      "execution_count": null,
      "outputs": [
        {
          "output_type": "execute_result",
          "data": {
            "text/plain": [
              "array([9, 0, 0, ..., 3, 0, 5], dtype=uint8)"
            ]
          },
          "metadata": {
            "tags": []
          },
          "execution_count": 6
        }
      ]
    },
    {
      "cell_type": "code",
      "metadata": {
        "id": "7xjwsuy_1_-w",
        "colab_type": "code",
        "colab": {
          "base_uri": "https://localhost:8080/",
          "height": 34
        },
        "outputId": "a5b1a822-746e-4240-d2af-32c2167c75ef"
      },
      "source": [
        "# Todas as labels\n",
        "np.unique(train_labels)"
      ],
      "execution_count": null,
      "outputs": [
        {
          "output_type": "execute_result",
          "data": {
            "text/plain": [
              "array([0, 1, 2, 3, 4, 5, 6, 7, 8, 9], dtype=uint8)"
            ]
          },
          "metadata": {
            "tags": []
          },
          "execution_count": 10
        }
      ]
    },
    {
      "cell_type": "markdown",
      "metadata": {
        "id": "4Jl35JQ_h8s2",
        "colab_type": "text"
      },
      "source": [
        "#### Pré-processe os dados"
      ]
    },
    {
      "cell_type": "code",
      "metadata": {
        "id": "45Kw3k2Jh-zW",
        "colab_type": "code",
        "colab": {
          "base_uri": "https://localhost:8080/",
          "height": 265
        },
        "outputId": "c548e622-1f80-4b09-f567-86701d96cd73"
      },
      "source": [
        "# Primeira imagem do conjunto de dados\n",
        "plt.figure()\n",
        "plt.imshow(train_images[0])\n",
        "plt.colorbar()\n",
        "plt.grid(False)\n",
        "plt.show()"
      ],
      "execution_count": null,
      "outputs": [
        {
          "output_type": "display_data",
          "data": {
            "image/png": "[encoded data removed]",
            "text/plain": [
              "<Figure size 432x288 with 2 Axes>"
            ]
          },
          "metadata": {
            "tags": [],
            "needs_background": "light"
          }
        }
      ]
    },
    {
      "cell_type": "code",
      "metadata": {
        "id": "X5w_cy1ih-8N",
        "colab_type": "code",
        "colab": {}
      },
      "source": [
        "# Escalaremos esses valores no intervalo de 0 e 1 antes antes de alimentar o modelo da rede neural.\n",
        "train_images = train_images / 255.0\n",
        "\n",
        "test_images = test_images / 255.0"
      ],
      "execution_count": null,
      "outputs": []
    },
    {
      "cell_type": "code",
      "metadata": {
        "id": "BxgAOXKZh_F2",
        "colab_type": "code",
        "colab": {
          "base_uri": "https://localhost:8080/",
          "height": 589
        },
        "outputId": "af8a9db4-6341-46f8-ddcb-53c1a441dd1c"
      },
      "source": [
        "# Primeiras 25 imagens do conjunto de treinamento\n",
        "plt.figure(figsize=(10,10))\n",
        "for i in range(25):\n",
        "    plt.subplot(5,5,i+1)\n",
        "    plt.xticks([])\n",
        "    plt.yticks([])\n",
        "    plt.grid(False)\n",
        "    plt.imshow(train_images[i], cmap=plt.cm.binary)\n",
        "    plt.xlabel(class_names[train_labels[i]])\n",
        "plt.show()"
      ],
      "execution_count": null,
      "outputs": [
        {
          "output_type": "display_data",
          "data": {
            "image/png": "[encoded data removed]",
            "text/plain": [
              "<Figure size 720x720 with 25 Axes>"
            ]
          },
          "metadata": {
            "tags": []
          }
        }
      ]
    },
    {
      "cell_type": "markdown",
      "metadata": {
        "id": "y4i59wGyiMvk",
        "colab_type": "text"
      },
      "source": [
        "#### Construindo o modelo"
      ]
    },
    {
      "cell_type": "code",
      "metadata": {
        "id": "qvDPKV2riO2M",
        "colab_type": "code",
        "colab": {}
      },
      "source": [
        "# Montar as camadas\n",
        "model = keras.Sequential([\n",
        "    keras.layers.Flatten(input_shape=(28, 28)),\n",
        "    keras.layers.Dense(128, activation='relu'),\n",
        "    keras.layers.Dense(10, activation='softmax')\n",
        "])"
      ],
      "execution_count": null,
      "outputs": []
    },
    {
      "cell_type": "code",
      "metadata": {
        "id": "x0aEH28PiO-z",
        "colab_type": "code",
        "colab": {}
      },
      "source": [
        "# Compile o modelo\n",
        "model.compile(optimizer='adam',\n",
        "              loss='sparse_categorical_crossentropy',\n",
        "              metrics=['accuracy'])"
      ],
      "execution_count": null,
      "outputs": []
    },
    {
      "cell_type": "code",
      "metadata": {
        "id": "GWJmmmh8AU9_",
        "colab_type": "code",
        "colab": {
          "base_uri": "https://localhost:8080/",
          "height": 255
        },
        "outputId": "b219963c-f0dd-4399-acc7-e84938a0ffb1"
      },
      "source": [
        "model.summary()"
      ],
      "execution_count": null,
      "outputs": [
        {
          "output_type": "stream",
          "text": [
            "Model: \"sequential\"\n",
            "_________________________________________________________________\n",
            "Layer (type)                 Output Shape              Param #   \n",
            "=================================================================\n",
            "flatten (Flatten)            (None, 784)               0         \n",
            "_________________________________________________________________\n",
            "dense (Dense)                (None, 128)               100480    \n",
            "_________________________________________________________________\n",
            "dense_1 (Dense)              (None, 10)                1290      \n",
            "=================================================================\n",
            "Total params: 101,770\n",
            "Trainable params: 101,770\n",
            "Non-trainable params: 0\n",
            "_________________________________________________________________\n"
          ],
          "name": "stdout"
        }
      ]
    },
    {
      "cell_type": "markdown",
      "metadata": {
        "id": "1B3bomOAiYKa",
        "colab_type": "text"
      },
      "source": [
        "####Treine o modelo"
      ]
    },
    {
      "cell_type": "code",
      "metadata": {
        "id": "OhOMxAJ7ibuy",
        "colab_type": "code",
        "colab": {
          "base_uri": "https://localhost:8080/",
          "height": 374
        },
        "outputId": "0de526bf-7652-4376-ee75-068d27e588e5"
      },
      "source": [
        "# Treine o modelo com o método fit\n",
        "model.fit(train_images, train_labels, epochs=10)"
      ],
      "execution_count": null,
      "outputs": [
        {
          "output_type": "stream",
          "text": [
            "Epoch 1/10\n",
            "1875/1875 [==============================] - 3s 2ms/step - loss: 0.5037 - accuracy: 0.8228\n",
            "Epoch 2/10\n",
            "1875/1875 [==============================] - 3s 2ms/step - loss: 0.3716 - accuracy: 0.8663\n",
            "Epoch 3/10\n",
            "1875/1875 [==============================] - 3s 2ms/step - loss: 0.3347 - accuracy: 0.8770\n",
            "Epoch 4/10\n",
            "1875/1875 [==============================] - 3s 2ms/step - loss: 0.3095 - accuracy: 0.8872\n",
            "Epoch 5/10\n",
            "1875/1875 [==============================] - 3s 2ms/step - loss: 0.2927 - accuracy: 0.8925\n",
            "Epoch 6/10\n",
            "1875/1875 [==============================] - 3s 2ms/step - loss: 0.2781 - accuracy: 0.8964\n",
            "Epoch 7/10\n",
            "1875/1875 [==============================] - 3s 2ms/step - loss: 0.2631 - accuracy: 0.9025\n",
            "Epoch 8/10\n",
            "1875/1875 [==============================] - 3s 2ms/step - loss: 0.2557 - accuracy: 0.9050\n",
            "Epoch 9/10\n",
            "1875/1875 [==============================] - 3s 2ms/step - loss: 0.2452 - accuracy: 0.9077\n",
            "Epoch 10/10\n",
            "1875/1875 [==============================] - 3s 2ms/step - loss: 0.2358 - accuracy: 0.9118\n"
          ],
          "name": "stdout"
        },
        {
          "output_type": "execute_result",
          "data": {
            "text/plain": [
              "<tensorflow.python.keras.callbacks.History at 0x7fcfa7ab5ac8>"
            ]
          },
          "metadata": {
            "tags": []
          },
          "execution_count": 17
        }
      ]
    },
    {
      "cell_type": "markdown",
      "metadata": {
        "id": "nqwXdVB0ihp5",
        "colab_type": "text"
      },
      "source": [
        "#### Avalie a acurácia"
      ]
    },
    {
      "cell_type": "code",
      "metadata": {
        "id": "Tcy_IkRz-K5W",
        "colab_type": "code",
        "colab": {
          "base_uri": "https://localhost:8080/",
          "height": 68
        },
        "outputId": "ae374bb9-e882-47a2-b3a7-7079732989d6"
      },
      "source": [
        "# compare como o modelo performou com o conjunto de teste\n",
        "test_loss, test_acc = model.evaluate(test_images,  test_labels, verbose=2)\n",
        "\n",
        "print('\\nTest accuracy:', test_acc)"
      ],
      "execution_count": null,
      "outputs": [
        {
          "output_type": "stream",
          "text": [
            "313/313 - 0s - loss: 0.3598 - accuracy: 0.8773\n",
            "\n",
            "Test accuracy: 0.8773000240325928\n"
          ],
          "name": "stdout"
        }
      ]
    },
    {
      "cell_type": "markdown",
      "metadata": {
        "id": "9Hrs7-Weisdp",
        "colab_type": "text"
      },
      "source": [
        "#### Faça predições"
      ]
    },
    {
      "cell_type": "code",
      "metadata": {
        "id": "7i9Ge4t8-szb",
        "colab_type": "code",
        "colab": {}
      },
      "source": [
        "# Para predições de algumas imagens\n",
        "predictions = model.predict(test_images)"
      ],
      "execution_count": null,
      "outputs": []
    },
    {
      "cell_type": "code",
      "metadata": {
        "id": "-ENqXkcgBHiy",
        "colab_type": "code",
        "colab": {
          "base_uri": "https://localhost:8080/",
          "height": 68
        },
        "outputId": "af8f88e1-75e3-4c77-e537-e596cc960e66"
      },
      "source": [
        "# Primeira pedição do conjunto. A predição é um array de 10 números\n",
        "predictions[0]"
      ],
      "execution_count": null,
      "outputs": [
        {
          "output_type": "execute_result",
          "data": {
            "text/plain": [
              "array([8.1266717e-06, 9.8639714e-11, 1.6522526e-08, 4.2831082e-12,\n",
              "       5.5435734e-10, 3.1135017e-03, 1.1151504e-08, 1.2586518e-02,\n",
              "       2.2906760e-07, 9.8429155e-01], dtype=float32)"
            ]
          },
          "metadata": {
            "tags": []
          },
          "execution_count": 20
        }
      ]
    },
    {
      "cell_type": "code",
      "metadata": {
        "id": "PXRkgOY5i8Fu",
        "colab_type": "code",
        "colab": {
          "base_uri": "https://localhost:8080/",
          "height": 34
        },
        "outputId": "0a7a1e51-5b34-4822-bdd1-a3731376ed5f"
      },
      "source": [
        "# Podemos ver cada label tem um maior valor de confiança.\n",
        "# Então, o modelo é confiante de que essa imagem é uma bota (ankle boot) ou class_names[9]\n",
        "np.argmax(predictions[0])"
      ],
      "execution_count": null,
      "outputs": [
        {
          "output_type": "execute_result",
          "data": {
            "text/plain": [
              "9"
            ]
          },
          "metadata": {
            "tags": []
          },
          "execution_count": 21
        }
      ]
    },
    {
      "cell_type": "code",
      "metadata": {
        "id": "wEHw8hcHi_KE",
        "colab_type": "code",
        "colab": {
          "base_uri": "https://localhost:8080/",
          "height": 34
        },
        "outputId": "225a664f-a1d0-4321-f066-7eb5d46cf1ef"
      },
      "source": [
        "# Examinando a label do teste, vemos que essa classificação é correta\n",
        "test_labels[0]"
      ],
      "execution_count": null,
      "outputs": [
        {
          "output_type": "execute_result",
          "data": {
            "text/plain": [
              "9"
            ]
          },
          "metadata": {
            "tags": []
          },
          "execution_count": 22
        }
      ]
    },
    {
      "cell_type": "code",
      "metadata": {
        "id": "J6cv-7tQjCYd",
        "colab_type": "code",
        "colab": {}
      },
      "source": [
        "# Podemos mostrar graficamente como se parece em um conjunto total de previsão de 10 classes.\n",
        "def plot_image(i, predictions_array, true_label, img):\n",
        "  predictions_array, true_label, img = predictions_array[i], true_label[i], img[i]\n",
        "  plt.grid(False)\n",
        "  plt.xticks([])\n",
        "  plt.yticks([])\n",
        "\n",
        "  plt.imshow(img, cmap=plt.cm.binary)\n",
        "\n",
        "  predicted_label = np.argmax(predictions_array)\n",
        "  if predicted_label == true_label:\n",
        "    color = 'blue'\n",
        "  else:\n",
        "    color = 'red'\n",
        "\n",
        "  plt.xlabel(\"{} {:2.0f}% ({})\".format(class_names[predicted_label],\n",
        "                                100*np.max(predictions_array),\n",
        "                                class_names[true_label]),\n",
        "                                color=color)\n",
        "\n",
        "def plot_value_array(i, predictions_array, true_label):\n",
        "  predictions_array, true_label = predictions_array[i], true_label[i]\n",
        "  plt.grid(False)\n",
        "  plt.xticks([])\n",
        "  plt.yticks([])\n",
        "  thisplot = plt.bar(range(10), predictions_array, color=\"#777777\")\n",
        "  plt.ylim([0, 1])\n",
        "  predicted_label = np.argmax(predictions_array)\n",
        "\n",
        "  thisplot[predicted_label].set_color('red')\n",
        "  thisplot[true_label].set_color('blue')"
      ],
      "execution_count": null,
      "outputs": []
    },
    {
      "cell_type": "code",
      "metadata": {
        "id": "TUIcxFfzjGXN",
        "colab_type": "code",
        "colab": {
          "base_uri": "https://localhost:8080/",
          "height": 203
        },
        "outputId": "fd5b02a2-3e5c-448d-e4e8-15fee57fea2f"
      },
      "source": [
        "# Vamos olhar a previsão imagem na posição 0, do array de predição.\n",
        "i = 0\n",
        "plt.figure(figsize=(6,3))\n",
        "plt.subplot(1,2,1)\n",
        "plot_image(i, predictions, test_labels, test_images)\n",
        "plt.subplot(1,2,2)\n",
        "plot_value_array(i, predictions,  test_labels)\n",
        "plt.show()"
      ],
      "execution_count": null,
      "outputs": [
        {
          "output_type": "display_data",
          "data": {
            "image/png": "[encoded data removed]",
            "text/plain": [
              "<Figure size 432x216 with 2 Axes>"
            ]
          },
          "metadata": {
            "tags": []
          }
        }
      ]
    },
    {
      "cell_type": "code",
      "metadata": {
        "id": "t0NOYJ9AjJz9",
        "colab_type": "code",
        "colab": {
          "base_uri": "https://localhost:8080/",
          "height": 203
        },
        "outputId": "e09457f9-a434-4832-acd8-02096a7676eb"
      },
      "source": [
        "i = 12\n",
        "plt.figure(figsize=(6,3))\n",
        "plt.subplot(1,2,1)\n",
        "plot_image(i, predictions, test_labels, test_images)\n",
        "plt.subplot(1,2,2)\n",
        "plot_value_array(i, predictions,  test_labels)\n",
        "plt.show()"
      ],
      "execution_count": null,
      "outputs": [
        {
          "output_type": "display_data",
          "data": {
            "image/png": "[encoded data removed]",
            "text/plain": [
              "<Figure size 432x216 with 2 Axes>"
            ]
          },
          "metadata": {
            "tags": []
          }
        }
      ]
    },
    {
      "cell_type": "code",
      "metadata": {
        "id": "f-IV3p0bjMwN",
        "colab_type": "code",
        "colab": {
          "base_uri": "https://localhost:8080/",
          "height": 589
        },
        "outputId": "49b14e66-fec2-4ea4-dcda-f5bb8f8ba773"
      },
      "source": [
        "# Plota o primeiro X test images, e as labels preditas, e as labels verdadeiras.\n",
        "# Colore as predições corretas de azul e as incorretas de vermelho.\n",
        "num_rows = 5\n",
        "num_cols = 3\n",
        "num_images = num_rows*num_cols\n",
        "plt.figure(figsize=(2*2*num_cols, 2*num_rows))\n",
        "for i in range(num_images):\n",
        "  plt.subplot(num_rows, 2*num_cols, 2*i+1)\n",
        "  plot_image(i, predictions, test_labels, test_images)\n",
        "  plt.subplot(num_rows, 2*num_cols, 2*i+2)\n",
        "  plot_value_array(i, predictions, test_labels)\n",
        "plt.show()"
      ],
      "execution_count": null,
      "outputs": [
        {
          "output_type": "display_data",
          "data": {
            "image/png": "[encoded data removed]",
            "text/plain": [
              "<Figure size 864x720 with 30 Axes>"
            ]
          },
          "metadata": {
            "tags": []
          }
        }
      ]
    },
    {
      "cell_type": "code",
      "metadata": {
        "id": "dhymSJAljQMM",
        "colab_type": "code",
        "colab": {
          "base_uri": "https://localhost:8080/",
          "height": 34
        },
        "outputId": "9e3b5d3e-fb09-4282-f001-58f552f76735"
      },
      "source": [
        "# Grab an image from the test dataset.\n",
        "img = test_images[0]\n",
        "\n",
        "print(img.shape)"
      ],
      "execution_count": null,
      "outputs": [
        {
          "output_type": "stream",
          "text": [
            "(28, 28)\n"
          ],
          "name": "stdout"
        }
      ]
    },
    {
      "cell_type": "code",
      "metadata": {
        "id": "3pYFK_dfjTmg",
        "colab_type": "code",
        "colab": {
          "base_uri": "https://localhost:8080/",
          "height": 34
        },
        "outputId": "215dd41e-a548-4fab-8a6a-c26cd9f7142f"
      },
      "source": [
        "# Adiciona a imagem em um batch que possui um só membro.\n",
        "img = (np.expand_dims(img,0))\n",
        "\n",
        "print(img.shape)"
      ],
      "execution_count": null,
      "outputs": [
        {
          "output_type": "stream",
          "text": [
            "(1, 28, 28)\n"
          ],
          "name": "stdout"
        }
      ]
    },
    {
      "cell_type": "code",
      "metadata": {
        "id": "lK6n5ApPjWyU",
        "colab_type": "code",
        "colab": {
          "base_uri": "https://localhost:8080/",
          "height": 51
        },
        "outputId": "5c6f11d6-b473-4f5a-aae1-f5a67c4e04ba"
      },
      "source": [
        "predictions_single = model.predict(img)\n",
        "\n",
        "print(predictions_single)"
      ],
      "execution_count": null,
      "outputs": [
        {
          "output_type": "stream",
          "text": [
            "[[8.1266799e-06 9.8639909e-11 1.6522590e-08 4.2831242e-12 5.5435628e-10\n",
            "  3.1134987e-03 1.1151525e-08 1.2586525e-02 2.2906825e-07 9.8429155e-01]]\n"
          ],
          "name": "stdout"
        }
      ]
    },
    {
      "cell_type": "code",
      "metadata": {
        "id": "IXBnz5BkjZyD",
        "colab_type": "code",
        "colab": {
          "base_uri": "https://localhost:8080/",
          "height": 300
        },
        "outputId": "50d81038-63bd-4747-d6a1-476666673024"
      },
      "source": [
        "plot_value_array(0, predictions_single, test_labels)\n",
        "_ = plt.xticks(range(10), class_names, rotation=45)"
      ],
      "execution_count": null,
      "outputs": [
        {
          "output_type": "display_data",
          "data": {
            "image/png": "[encoded data removed]",
            "text/plain": [
              "<Figure size 432x288 with 1 Axes>"
            ]
          },
          "metadata": {
            "tags": [],
            "needs_background": "light"
          }
        }
      ]
    },
    {
      "cell_type": "code",
      "metadata": {
        "id": "R2_kkgQmjcpp",
        "colab_type": "code",
        "colab": {
          "base_uri": "https://localhost:8080/",
          "height": 34
        },
        "outputId": "a5fcfbcf-c85f-4b09-c757-111d9c96ed75"
      },
      "source": [
        "np.argmax(predictions_single[0])"
      ],
      "execution_count": null,
      "outputs": [
        {
          "output_type": "execute_result",
          "data": {
            "text/plain": [
              "9"
            ]
          },
          "metadata": {
            "tags": []
          },
          "execution_count": 31
        }
      ]
    },
    {
      "cell_type": "markdown",
      "metadata": {
        "id": "17P_QEF63pH0",
        "colab_type": "text"
      },
      "source": [
        "## Questionário"
      ]
    },
    {
      "cell_type": "markdown",
      "metadata": {
        "id": "t0TZOhmxm9Sl",
        "colab_type": "text"
      },
      "source": [
        "#### Pergunta 1\n",
        "Que tipo de Aprendizado foi utilizado no nosso problema?\n",
        "\n",
        "- Não supervisionado.\n",
        "\n",
        "- Aprendizado por reforço.\n",
        "\n",
        "- Semi-supervisionado.\n",
        "\n",
        "- ***Supervisionado.***\n"
      ]
    },
    {
      "cell_type": "markdown",
      "metadata": {
        "id": "8HpNTK2ISXIR",
        "colab_type": "text"
      },
      "source": [
        "#### Pergunta 2\n",
        "O modelo lida com quantas classes?\n",
        "\n",
        "- 9.\n",
        "\n",
        "- 8.\n",
        "\n",
        "- 7.\n",
        "\n",
        "- ***10.***\n"
      ]
    },
    {
      "cell_type": "markdown",
      "metadata": {
        "colab_type": "text",
        "id": "glmDLRZPZasB"
      },
      "source": [
        "#### Pergunta 3\n",
        "Como os tipos de características foram identificadas?\n",
        "\n",
        "- ***Pelos descritores de forma.***\n",
        "\n",
        "- Pelos tradutores manuais de imagem.\n",
        "\n",
        "- Pelas regressões logísticas de forma.\n",
        "\n",
        "- Pelos inversores de borda.\n"
      ]
    },
    {
      "cell_type": "markdown",
      "metadata": {
        "colab_type": "text",
        "id": "yddCb7GeZbfx"
      },
      "source": [
        "#### Pergunta 4\n",
        "Podemos citar a análise utilizada aqui como:\n",
        "\n",
        "- Alternativa.\n",
        "\n",
        "- Retroativa.\n",
        "\n",
        "- ***Preditiva.***\n",
        "\n",
        "- Especialista.\n"
      ]
    },
    {
      "cell_type": "markdown",
      "metadata": {
        "colab_type": "text",
        "id": "f6obLFxLZboP"
      },
      "source": [
        "#### Pergunta 5\n",
        "Pensando no conceito de Inteligência Artificial, podemos dizer que:\n",
        "\n",
        "- O sistema montado repete instruções prévias.\n",
        "\n",
        "- O sistema montado tenta deduzir como máquinas.\n",
        "\n",
        "- O sistema montado não é capaz de generalizar.\n",
        "\n",
        "- ***O sistema montado tenta pensar como humanos.***\n"
      ]
    },
    {
      "cell_type": "markdown",
      "metadata": {
        "colab_type": "text",
        "id": "lfBx4htxZbuc"
      },
      "source": [
        "#### Pergunta 6\n",
        "O desempenho do sistema deve melhorar não apenas na repetição da mesma tarefa, mas também nas tarefas similares do domínio. Portanto:\n",
        "\n",
        "- O aprendizado envolve a regressão a partir da observação.\n",
        "\n",
        "- O aprendizado envolve a regressão a partir da experiência.\n",
        "\n",
        "- O aprendizado envolve a repetição linear a partir da experiência.\n",
        "\n",
        "- ***O aprendizado envolve a generalização a partir da experiência.***\n"
      ]
    },
    {
      "cell_type": "markdown",
      "metadata": {
        "colab_type": "text",
        "id": "o7dW4P4mZb0o"
      },
      "source": [
        "#### Pergunta 7\n",
        "O exemplo foi que tipo de inferência?\n",
        "\n",
        "- Dedutiva.\n",
        "\n",
        "- Classificativa.\n",
        "\n",
        "- Repetitiva.\n",
        "\n",
        "- ***Indutiva.***\n"
      ]
    },
    {
      "cell_type": "markdown",
      "metadata": {
        "colab_type": "text",
        "id": "Nuq_zPq9Zb6G"
      },
      "source": [
        "#### Pergunta 8\n",
        "Nesse trabalho qual tipo de algoritmo foi usado para classificar?\n",
        "\n",
        "- SVM.\n",
        "\n",
        "- Redes recorrentes.\n",
        "\n",
        "- Regressão Logística.\n",
        "\n",
        "- ***Redes Neurais.***\n"
      ]
    },
    {
      "cell_type": "markdown",
      "metadata": {
        "colab_type": "text",
        "id": "-N_XTAARZb_k"
      },
      "source": [
        "#### Pergunta 9\n",
        "Pelo uso do Flatten, podemos afirmar qual foi a rede utilizada?\n",
        "\n",
        "- Sim, foi um Flatten por Reforço.\n",
        "\n",
        "- Sim, foi um Perceptron Multicamada.\n",
        "\n",
        "- Não, pois o Flatten é algo inexistente.\n",
        "\n",
        "- ***Sim, foi uma Rede Neural CNN.***\n"
      ]
    },
    {
      "cell_type": "markdown",
      "metadata": {
        "colab_type": "text",
        "id": "YQqXa5GpZcFC"
      },
      "source": [
        "#### Pergunta 10\n",
        "Para que serviu a função Loss no nosso modelo?\n",
        "\n",
        "- Internaliza a função para guiar o modelo para direção certa.\n",
        "\n",
        "- Otimiza a função para guiar o modelo para direção aleatória.\n",
        "\n",
        "- Maximiza a função para guiar o modelo para direção certa.\n",
        "\n",
        "- ***Minimiza a função para guiar o modelo para direção certa.***\n"
      ]
    },
    {
      "cell_type": "markdown",
      "metadata": {
        "colab_type": "text",
        "id": "GVFX3cZvZcKg"
      },
      "source": [
        "#### Pergunta 11\n",
        "Para que serve o comando model.fit?\n",
        "\n",
        "- ***Treinamento.***\n",
        "\n",
        "- Verificar a acurácia.\n",
        "\n",
        "- Teste.\n",
        "\n",
        "- Iniciar o modelo para carga.\n"
      ]
    },
    {
      "cell_type": "markdown",
      "metadata": {
        "colab_type": "text",
        "id": "akn2OS7PZcPW"
      },
      "source": [
        "#### Pergunta 12\n",
        "No treinamento do modelo, qual foi a acurácia da Epoch 5/10?\n",
        "\n",
        "- 0,8252.\n",
        "\n",
        "- 0,08852.\n",
        "\n",
        "- ***0,8914.***\n",
        "\n",
        "- 0,8114.\n"
      ]
    },
    {
      "cell_type": "markdown",
      "metadata": {
        "colab_type": "text",
        "id": "E2YP9kcsZcUO"
      },
      "source": [
        "#### Pergunta 13\n",
        "Qual foi a acurácia do modelo no teste?\n",
        "\n",
        "- 0,9811.\n",
        "\n",
        "- ***0,8811.***\n",
        "\n",
        "- 0,313.\n",
        "\n",
        "- 0,3418.\n"
      ]
    },
    {
      "cell_type": "markdown",
      "metadata": {
        "colab_type": "text",
        "id": "-GXj6SSGZcYe"
      },
      "source": [
        "#### Pergunta 14\n",
        "Quantas imagens foram utilizadas para a etapa de predição?\n",
        "\n",
        "- 5.\n",
        "\n",
        "- 4.\n",
        "\n",
        "- 2.\n",
        "\n",
        "- ***1.***\n"
      ]
    },
    {
      "cell_type": "markdown",
      "metadata": {
        "colab_type": "text",
        "id": "8Ok2WnaoZcdW"
      },
      "source": [
        "#### Pergunta 15\n",
        "Acerca do exemplo apresentado responda qual foi o resultado da classificação e se ela retornou o valor correto?\n",
        "\n",
        "- Label 8 de forma correta.\n",
        "\n",
        "- ***Label 9 de forma correta.***\n",
        "\n",
        "- Label 8 de forma incorreta.\n",
        "\n",
        "- Label 7 de forma correta.\n"
      ]
    }
  ]
}