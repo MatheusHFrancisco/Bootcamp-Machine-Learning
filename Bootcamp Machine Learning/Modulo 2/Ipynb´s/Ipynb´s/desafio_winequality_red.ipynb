{
  "nbformat": 4,
  "nbformat_minor": 0,
  "metadata": {
    "colab": {
      "name": "desafio_winequality-red.ipynb",
      "provenance": [],
      "collapsed_sections": []
    },
    "kernelspec": {
      "name": "python3",
      "display_name": "Python 3"
    }
  },
  "cells": [
    {
      "cell_type": "markdown",
      "metadata": {
        "id": "N3_ugmhLc0s2",
        "colab_type": "text"
      },
      "source": [
        "## Desafio - Módulo 2 - Machine Learning\n",
        "##### **Com respotas do questionário**"
      ]
    },
    {
      "cell_type": "markdown",
      "metadata": {
        "id": "xbwJWsiNMY9b",
        "colab_type": "text"
      },
      "source": [
        "## Objetivo:\n",
        "* Análise exploratória dos dados (EDA - Exploratory Data Analysis).\n",
        "* Preparação dos dados.\n",
        "* Comparação e ajuste de modelos de classificação.\n"
      ]
    },
    {
      "cell_type": "markdown",
      "metadata": {
        "id": "RMktEpbWcpP2",
        "colab_type": "text"
      },
      "source": [
        "Dataset: https://archive.ics.uci.edu/ml/datasets/wine"
      ]
    },
    {
      "cell_type": "markdown",
      "metadata": {
        "id": "Fwj3Bnu2dXRK",
        "colab_type": "text"
      },
      "source": [
        "**Wine Quality Data Set**<br>\n",
        "Description\n",
        "\n",
        "Forina, M. et al, PARVUS -\n",
        "An Extendible Package for Data Exploration, Classification and Correlation.\n",
        "Institute of Pharmaceutical and Food Analysis and Technologies, Via Brigata Salerno,\n",
        "16147 Genoa, Italy.\n"
      ]
    },
    {
      "cell_type": "markdown",
      "metadata": {
        "id": "ErCzLPqseEoQ",
        "colab_type": "text"
      },
      "source": [
        "Attribute Information:\n",
        "\n",
        "These data are the results of a chemical analysis of wines grown in the same region in Italy but derived from three different cultivars. The analysis determined the quantities of 13 constituents found in each of the three types of wines.\n",
        "\n",
        "I think that the initial data set had around 30 variables, but for some reason I only have the 13 dimensional version. I had a list of what the 30 or so variables were, but a.) I lost it, and b.), I would not know which 13 variables are included in the set.\n",
        "\n",
        "The attributes are (dontated by Riccardo Leardi, riclea '@' anchem.unige.it )\n",
        "- 01) Alcohol\n",
        "- 02) Malic acid\n",
        "- 03) Ash\n",
        "- 04) Alcalinity of ash\n",
        "- 05) Magnesium\n",
        "- 06) Total phenols\n",
        "- 07) Flavanoids\n",
        "- 08) Nonflavanoid phenols\n",
        "- 09) Proanthocyanins\n",
        "- 10) Color intensity\n",
        "- 11) Hue\n",
        "- 12) OD280/OD315 of diluted wines\n",
        "- 13) Proline\n"
      ]
    },
    {
      "cell_type": "markdown",
      "metadata": {
        "id": "YjqVWIWEfQeg",
        "colab_type": "text"
      },
      "source": [
        "## Análise exploratória dos dados (EDA - Exploratory Data Analysis)"
      ]
    },
    {
      "cell_type": "code",
      "metadata": {
        "id": "XkAa6kElhAz9",
        "colab_type": "code",
        "colab": {}
      },
      "source": [
        "# importando as bibliotecas\n",
        "\n",
        "import warnings\n",
        "warnings.filterwarnings(\"ignore\")\n",
        "\n",
        "import pandas as pd \n",
        "import numpy as np \n",
        "import seaborn as sns\n",
        "import matplotlib.pyplot as plt "
      ],
      "execution_count": null,
      "outputs": []
    },
    {
      "cell_type": "code",
      "metadata": {
        "id": "c3aot9E-li4L",
        "colab_type": "code",
        "colab": {}
      },
      "source": [
        "#realizando a leitura do arquivo (dataset)\n",
        "data = 'winequality-red.csv'\n",
        "df = pd.read_csv(data, sep=';')"
      ],
      "execution_count": null,
      "outputs": []
    },
    {
      "cell_type": "code",
      "metadata": {
        "id": "K_rJ03JqeoKM",
        "colab_type": "code",
        "colab": {
          "base_uri": "https://localhost:8080/",
          "height": 54
        },
        "outputId": "98a6d2b0-cd6d-43f5-adcf-c1ca12106b29"
      },
      "source": [
        "print(list(df.columns))"
      ],
      "execution_count": null,
      "outputs": [
        {
          "output_type": "stream",
          "text": [
            "['fixed acidity', 'volatile acidity', 'citric acid', 'residual sugar', 'chlorides', 'free sulfur dioxide', 'total sulfur dioxide', 'density', 'pH', 'sulphates', 'alcohol', 'quality']\n"
          ],
          "name": "stdout"
        }
      ]
    },
    {
      "cell_type": "code",
      "metadata": {
        "id": "bKF37jCWl5SG",
        "colab_type": "code",
        "colab": {
          "base_uri": "https://localhost:8080/",
          "height": 221
        },
        "outputId": "6a0e4a05-ceb1-4c49-bb8c-f6f004373080"
      },
      "source": [
        "#apresentando as 5 primeiras linhas do dataset\n",
        "df.head()"
      ],
      "execution_count": null,
      "outputs": [
        {
          "output_type": "execute_result",
          "data": {
            "text/html": [
              "<div>\n",
              "<style scoped>\n",
              "    .dataframe tbody tr th:only-of-type {\n",
              "        vertical-align: middle;\n",
              "    }\n",
              "\n",
              "    .dataframe tbody tr th {\n",
              "        vertical-align: top;\n",
              "    }\n",
              "\n",
              "    .dataframe thead th {\n",
              "        text-align: right;\n",
              "    }\n",
              "</style>\n",
              "<table border=\"1\" class=\"dataframe\">\n",
              "  <thead>\n",
              "    <tr style=\"text-align: right;\">\n",
              "      <th></th>\n",
              "      <th>fixed acidity</th>\n",
              "      <th>volatile acidity</th>\n",
              "      <th>citric acid</th>\n",
              "      <th>residual sugar</th>\n",
              "      <th>chlorides</th>\n",
              "      <th>free sulfur dioxide</th>\n",
              "      <th>total sulfur dioxide</th>\n",
              "      <th>density</th>\n",
              "      <th>pH</th>\n",
              "      <th>sulphates</th>\n",
              "      <th>alcohol</th>\n",
              "      <th>quality</th>\n",
              "    </tr>\n",
              "  </thead>\n",
              "  <tbody>\n",
              "    <tr>\n",
              "      <th>0</th>\n",
              "      <td>7.4</td>\n",
              "      <td>0.70</td>\n",
              "      <td>0.00</td>\n",
              "      <td>1.9</td>\n",
              "      <td>0.076</td>\n",
              "      <td>11.0</td>\n",
              "      <td>34.0</td>\n",
              "      <td>0.9978</td>\n",
              "      <td>3.51</td>\n",
              "      <td>0.56</td>\n",
              "      <td>9.4</td>\n",
              "      <td>5</td>\n",
              "    </tr>\n",
              "    <tr>\n",
              "      <th>1</th>\n",
              "      <td>7.8</td>\n",
              "      <td>0.88</td>\n",
              "      <td>0.00</td>\n",
              "      <td>2.6</td>\n",
              "      <td>0.098</td>\n",
              "      <td>25.0</td>\n",
              "      <td>67.0</td>\n",
              "      <td>0.9968</td>\n",
              "      <td>3.20</td>\n",
              "      <td>0.68</td>\n",
              "      <td>9.8</td>\n",
              "      <td>5</td>\n",
              "    </tr>\n",
              "    <tr>\n",
              "      <th>2</th>\n",
              "      <td>7.8</td>\n",
              "      <td>0.76</td>\n",
              "      <td>0.04</td>\n",
              "      <td>2.3</td>\n",
              "      <td>0.092</td>\n",
              "      <td>15.0</td>\n",
              "      <td>54.0</td>\n",
              "      <td>0.9970</td>\n",
              "      <td>3.26</td>\n",
              "      <td>0.65</td>\n",
              "      <td>9.8</td>\n",
              "      <td>5</td>\n",
              "    </tr>\n",
              "    <tr>\n",
              "      <th>3</th>\n",
              "      <td>11.2</td>\n",
              "      <td>0.28</td>\n",
              "      <td>0.56</td>\n",
              "      <td>1.9</td>\n",
              "      <td>0.075</td>\n",
              "      <td>17.0</td>\n",
              "      <td>60.0</td>\n",
              "      <td>0.9980</td>\n",
              "      <td>3.16</td>\n",
              "      <td>0.58</td>\n",
              "      <td>9.8</td>\n",
              "      <td>6</td>\n",
              "    </tr>\n",
              "    <tr>\n",
              "      <th>4</th>\n",
              "      <td>7.4</td>\n",
              "      <td>0.70</td>\n",
              "      <td>0.00</td>\n",
              "      <td>1.9</td>\n",
              "      <td>0.076</td>\n",
              "      <td>11.0</td>\n",
              "      <td>34.0</td>\n",
              "      <td>0.9978</td>\n",
              "      <td>3.51</td>\n",
              "      <td>0.56</td>\n",
              "      <td>9.4</td>\n",
              "      <td>5</td>\n",
              "    </tr>\n",
              "  </tbody>\n",
              "</table>\n",
              "</div>"
            ],
            "text/plain": [
              "   fixed acidity  volatile acidity  citric acid  ...  sulphates  alcohol  quality\n",
              "0            7.4              0.70         0.00  ...       0.56      9.4        5\n",
              "1            7.8              0.88         0.00  ...       0.68      9.8        5\n",
              "2            7.8              0.76         0.04  ...       0.65      9.8        5\n",
              "3           11.2              0.28         0.56  ...       0.58      9.8        6\n",
              "4            7.4              0.70         0.00  ...       0.56      9.4        5\n",
              "\n",
              "[5 rows x 12 columns]"
            ]
          },
          "metadata": {
            "tags": []
          },
          "execution_count": 4
        }
      ]
    },
    {
      "cell_type": "markdown",
      "metadata": {
        "id": "t0TZOhmxm9Sl",
        "colab_type": "text"
      },
      "source": [
        "#### Pergunta 1\n",
        "No dataset utilizado para o desafio, quantas instâncias e atributos existem, respectivamente?\n",
        "\n",
        "- (12,1599).\n",
        "\n",
        "- (1345,15).\n",
        "\n",
        "- ***(1599,12).***\n",
        "\n",
        "- (15,1345)."
      ]
    },
    {
      "cell_type": "code",
      "metadata": {
        "id": "6E-2Hd7tyBXA",
        "colab_type": "code",
        "colab": {
          "base_uri": "https://localhost:8080/",
          "height": 34
        },
        "outputId": "a08f6122-f570-42f2-c730-48c1b4877f34"
      },
      "source": [
        "df.shape"
      ],
      "execution_count": null,
      "outputs": [
        {
          "output_type": "execute_result",
          "data": {
            "text/plain": [
              "(1599, 12)"
            ]
          },
          "metadata": {
            "tags": []
          },
          "execution_count": 5
        }
      ]
    },
    {
      "cell_type": "code",
      "metadata": {
        "id": "VzJXc45uPIcI",
        "colab_type": "code",
        "colab": {
          "base_uri": "https://localhost:8080/",
          "height": 34
        },
        "outputId": "562d965a-b367-457f-8d8c-81026c289dee"
      },
      "source": [
        "print(f'Dimensão do dataframe - (1599 linhas(rows), 12 colunas(column)): {df.shape}')"
      ],
      "execution_count": null,
      "outputs": [
        {
          "output_type": "stream",
          "text": [
            "Dimensão do dataframe - (1599 linhas(rows), 12 colunas(column)): (1599, 12)\n"
          ],
          "name": "stdout"
        }
      ]
    },
    {
      "cell_type": "markdown",
      "metadata": {
        "id": "8HpNTK2ISXIR",
        "colab_type": "text"
      },
      "source": [
        "#### Pergunta 2\n",
        "Quantos tipos diferentes de dados existem no dataset do desafio?\n",
        "\n",
        "- 17.\n",
        "\n",
        "- ***2.***\n",
        "\n",
        "- 12.\n",
        "\n",
        "- 3."
      ]
    },
    {
      "cell_type": "code",
      "metadata": {
        "id": "Ydb2nIAlGd2P",
        "colab_type": "code",
        "colab": {
          "base_uri": "https://localhost:8080/",
          "height": 238
        },
        "outputId": "0d40099c-1aac-4d94-ae9f-83b2c199f9b9"
      },
      "source": [
        "df.dtypes"
      ],
      "execution_count": null,
      "outputs": [
        {
          "output_type": "execute_result",
          "data": {
            "text/plain": [
              "fixed acidity           float64\n",
              "volatile acidity        float64\n",
              "citric acid             float64\n",
              "residual sugar          float64\n",
              "chlorides               float64\n",
              "free sulfur dioxide     float64\n",
              "total sulfur dioxide    float64\n",
              "density                 float64\n",
              "pH                      float64\n",
              "sulphates               float64\n",
              "alcohol                 float64\n",
              "quality                   int64\n",
              "dtype: object"
            ]
          },
          "metadata": {
            "tags": []
          },
          "execution_count": 7
        }
      ]
    },
    {
      "cell_type": "code",
      "metadata": {
        "id": "x56TKoqhHAp0",
        "colab_type": "code",
        "colab": {
          "base_uri": "https://localhost:8080/",
          "height": 85
        },
        "outputId": "aa564c77-24bd-4b0c-f0b1-55ce6347b404"
      },
      "source": [
        "print(f'Tipos de dados existente no dataset: \\n{df.dtypes.value_counts()}')"
      ],
      "execution_count": null,
      "outputs": [
        {
          "output_type": "stream",
          "text": [
            "Tipos de dados existente no dataset: \n",
            "float64    11\n",
            "int64       1\n",
            "dtype: int64\n"
          ],
          "name": "stdout"
        }
      ]
    },
    {
      "cell_type": "markdown",
      "metadata": {
        "colab_type": "text",
        "id": "hlOM_OKDScl2"
      },
      "source": [
        "#### Pergunta 3\n",
        "Qual é a proporção (em %) de valores nulos existente na coluna \"residual sugar\" (resíduo de açucar)?\n",
        "\n",
        "- 5%.\n",
        "\n",
        "- 15%.\n",
        "\n",
        "- ***0%.***\n",
        "\n",
        "- 12%."
      ]
    },
    {
      "cell_type": "code",
      "metadata": {
        "id": "EpiJCLqZOip3",
        "colab_type": "code",
        "colab": {
          "base_uri": "https://localhost:8080/",
          "height": 238
        },
        "outputId": "7f750d55-31e0-42c4-80e8-bc20860ec6f7"
      },
      "source": [
        "df.isnull().any()"
      ],
      "execution_count": null,
      "outputs": [
        {
          "output_type": "execute_result",
          "data": {
            "text/plain": [
              "fixed acidity           False\n",
              "volatile acidity        False\n",
              "citric acid             False\n",
              "residual sugar          False\n",
              "chlorides               False\n",
              "free sulfur dioxide     False\n",
              "total sulfur dioxide    False\n",
              "density                 False\n",
              "pH                      False\n",
              "sulphates               False\n",
              "alcohol                 False\n",
              "quality                 False\n",
              "dtype: bool"
            ]
          },
          "metadata": {
            "tags": []
          },
          "execution_count": 9
        }
      ]
    },
    {
      "cell_type": "code",
      "metadata": {
        "id": "lvgGhNG2Oux5",
        "colab_type": "code",
        "colab": {
          "base_uri": "https://localhost:8080/",
          "height": 238
        },
        "outputId": "2202582a-4184-4495-edd0-4098492b49fa"
      },
      "source": [
        "df.isnull().sum()"
      ],
      "execution_count": null,
      "outputs": [
        {
          "output_type": "execute_result",
          "data": {
            "text/plain": [
              "fixed acidity           0\n",
              "volatile acidity        0\n",
              "citric acid             0\n",
              "residual sugar          0\n",
              "chlorides               0\n",
              "free sulfur dioxide     0\n",
              "total sulfur dioxide    0\n",
              "density                 0\n",
              "pH                      0\n",
              "sulphates               0\n",
              "alcohol                 0\n",
              "quality                 0\n",
              "dtype: int64"
            ]
          },
          "metadata": {
            "tags": []
          },
          "execution_count": 10
        }
      ]
    },
    {
      "cell_type": "code",
      "metadata": {
        "id": "Ro6-4WCESKXV",
        "colab_type": "code",
        "colab": {
          "base_uri": "https://localhost:8080/",
          "height": 34
        },
        "outputId": "cee1ac48-12fb-4cf1-e6c4-474fe4afd91b"
      },
      "source": [
        "# Confirmnando apenas com a coluna 'residual sugar'\n",
        "df_mis = df['residual sugar']\n",
        "mis_val_percent = 100 * df_mis.isnull().sum() / len(df_mis)\n",
        "mis_val_percent"
      ],
      "execution_count": null,
      "outputs": [
        {
          "output_type": "execute_result",
          "data": {
            "text/plain": [
              "0.0"
            ]
          },
          "metadata": {
            "tags": []
          },
          "execution_count": 11
        }
      ]
    },
    {
      "cell_type": "markdown",
      "metadata": {
        "colab_type": "text",
        "id": "OHA2b1gKScyl"
      },
      "source": [
        "#### Pergunta 4\n",
        "Qual é o desvio padrão para a variável \"fixed acidity\" ?\n",
        "\n",
        "- 8.3\n",
        "\n",
        "- 2.3\n",
        "\n",
        "- ***1.7***\n",
        "\n",
        "- 1.4"
      ]
    },
    {
      "cell_type": "markdown",
      "metadata": {
        "id": "SSJVDeOeUi-d",
        "colab_type": "text"
      },
      "source": [
        "O **desvio padrão** é uma medida que indica a dispersão dos dados dentro de uma amostra com relação à média. Assim, quando se calcula o desvio padrão juntamente com a média de diferentes grupos, obtém-se mais informações para avaliar e diferenciar seus comportamentos."
      ]
    },
    {
      "cell_type": "code",
      "metadata": {
        "id": "szZbRAvFTg-l",
        "colab_type": "code",
        "colab": {
          "base_uri": "https://localhost:8080/",
          "height": 34
        },
        "outputId": "26800cfd-4412-4e7f-8f86-0eb3a0e5cba9"
      },
      "source": [
        "df_std = df['fixed acidity']\n",
        "df_std.std()"
      ],
      "execution_count": null,
      "outputs": [
        {
          "output_type": "execute_result",
          "data": {
            "text/plain": [
              "1.7410963181277006"
            ]
          },
          "metadata": {
            "tags": []
          },
          "execution_count": 12
        }
      ]
    },
    {
      "cell_type": "markdown",
      "metadata": {
        "colab_type": "text",
        "id": "-kyHrb1ASc6d"
      },
      "source": [
        "#### Pergunta 5\n",
        "Qual é a mediana para a variável \"residual sugar\"?\n",
        "\n",
        "- 1.9\n",
        "\n",
        "- 8.1\n",
        "\n",
        "- 2.5\n",
        "\n",
        "- ***2.2***"
      ]
    },
    {
      "cell_type": "markdown",
      "metadata": {
        "id": "jEYPN1oLXH_B",
        "colab_type": "text"
      },
      "source": [
        "O termo **“mediana”** refere-se a “meio”. Dado um conjunto de informações numéricas, o valor central corresponde à mediana desse conjunto. Dessa forma, é importante que esses valores sejam colocados em ordem, seja crescente ou decrescente. Se houver uma quantidade ímpar de valores numéricos, a mediana será o valor central do conjunto numérico. Se a quantidade de valores for um número par, devemos fazer uma média aritmética dos dois números centrais, e esse resultado será o valor da mediana."
      ]
    },
    {
      "cell_type": "code",
      "metadata": {
        "id": "Tu2t_OuZVU9z",
        "colab_type": "code",
        "colab": {
          "base_uri": "https://localhost:8080/",
          "height": 34
        },
        "outputId": "89260c8e-bb30-4ab0-ff31-766f67bf1f3e"
      },
      "source": [
        "df_m = df['residual sugar']\n",
        "df_m.median()"
      ],
      "execution_count": null,
      "outputs": [
        {
          "output_type": "execute_result",
          "data": {
            "text/plain": [
              "2.2"
            ]
          },
          "metadata": {
            "tags": []
          },
          "execution_count": 13
        }
      ]
    },
    {
      "cell_type": "code",
      "metadata": {
        "id": "CugDqE_fWEeW",
        "colab_type": "code",
        "colab": {
          "base_uri": "https://localhost:8080/",
          "height": 170
        },
        "outputId": "60a2f58e-e9e7-46df-beb1-9034142cada4"
      },
      "source": [
        "df_m.describe()"
      ],
      "execution_count": null,
      "outputs": [
        {
          "output_type": "execute_result",
          "data": {
            "text/plain": [
              "count    1599.000000\n",
              "mean        2.538806\n",
              "std         1.409928\n",
              "min         0.900000\n",
              "25%         1.900000\n",
              "50%         2.200000\n",
              "75%         2.600000\n",
              "max        15.500000\n",
              "Name: residual sugar, dtype: float64"
            ]
          },
          "metadata": {
            "tags": []
          },
          "execution_count": 14
        }
      ]
    },
    {
      "cell_type": "markdown",
      "metadata": {
        "colab_type": "text",
        "id": "w1LGxDmxSdBR"
      },
      "source": [
        "#### Pergunta 6\n",
        "Sobre o coeficiente de correlação de Pearson entre as variáveis \"fixed acidity\" e \"pH\" é CORRETO afirmar:]\n",
        "\n",
        "- ***Existe uma correlação negativa. Quanto maior o \"fixed acidity, menor é o \"pH\".***\n",
        "\n",
        "- Existe uma correlação positiva. Quanto maior o \"fixed acidity, menor é o \"pH\".\n",
        "\n",
        "- Existe uma correlação negativa. Quanto maior o \"fixed acidity, maior é o \"pH\".\n",
        "\n",
        "- Existe uma correlação negativa. Quanto menor o \"fixed acidity, menor é o \"pH\"."
      ]
    },
    {
      "cell_type": "markdown",
      "metadata": {
        "id": "7AfZyZJDZ8u7",
        "colab_type": "text"
      },
      "source": [
        "Os **coeficientes de correlação** são métodos estatísticos para se medir as relações entre variáveis e o que elas representam.\n",
        "\n",
        "O que a correlação procura entender é como uma variável se comporta em um cenário onde outra está variando, visando identificar se existe alguma relação entre a variabilidade de ambas. Embora não implique em causalidade, o coeficiente de correlação exprime em números essa relação, ou seja, quantifica a relação entre as variáveis.\n",
        "\n",
        "O coeficiente de correlação de Pearson (r) ou coeficiente de correlação\n",
        "produto-momento ou o r de Pearson mede o grau da correlação linear entre\n",
        "duas variáveis quantitativas. É um índice adimensional com valores situados\n",
        "ente -1,0 e 1.0 inclusive, que reflete a intensidade de uma relação linear entre\n",
        "dois conjuntos de dados. \n",
        "\n",
        "* r = 1 Significa uma correlação perfeita positiva entre as duas variáveis.\n",
        "* r = -1 Significa uma correlação negativa perfeita entre as duas variáveis - Isto é,\n",
        "se uma aumenta, a outra sempre diminui.\n",
        "* r = 0 Significa que as duas variáveis não dependem linearmente uma da outra.\n",
        "No entanto, pode existir uma outra dependência que seja \"não linear\". Assim, o\n",
        "resultado r=0 deve ser investigado por outros meios. \n",
        "\n"
      ]
    },
    {
      "cell_type": "code",
      "metadata": {
        "id": "LaP4Pjt8YKkz",
        "colab_type": "code",
        "colab": {
          "base_uri": "https://localhost:8080/",
          "height": 111
        },
        "outputId": "a05f34b4-61b0-4d25-ced9-11b3fc2d9360"
      },
      "source": [
        "pearsoncorr = df[['fixed acidity', 'pH']].corr(method='pearson')\n",
        "pearsoncorr"
      ],
      "execution_count": null,
      "outputs": [
        {
          "output_type": "execute_result",
          "data": {
            "text/html": [
              "<div>\n",
              "<style scoped>\n",
              "    .dataframe tbody tr th:only-of-type {\n",
              "        vertical-align: middle;\n",
              "    }\n",
              "\n",
              "    .dataframe tbody tr th {\n",
              "        vertical-align: top;\n",
              "    }\n",
              "\n",
              "    .dataframe thead th {\n",
              "        text-align: right;\n",
              "    }\n",
              "</style>\n",
              "<table border=\"1\" class=\"dataframe\">\n",
              "  <thead>\n",
              "    <tr style=\"text-align: right;\">\n",
              "      <th></th>\n",
              "      <th>fixed acidity</th>\n",
              "      <th>pH</th>\n",
              "    </tr>\n",
              "  </thead>\n",
              "  <tbody>\n",
              "    <tr>\n",
              "      <th>fixed acidity</th>\n",
              "      <td>1.000000</td>\n",
              "      <td>-0.682978</td>\n",
              "    </tr>\n",
              "    <tr>\n",
              "      <th>pH</th>\n",
              "      <td>-0.682978</td>\n",
              "      <td>1.000000</td>\n",
              "    </tr>\n",
              "  </tbody>\n",
              "</table>\n",
              "</div>"
            ],
            "text/plain": [
              "               fixed acidity        pH\n",
              "fixed acidity       1.000000 -0.682978\n",
              "pH                 -0.682978  1.000000"
            ]
          },
          "metadata": {
            "tags": []
          },
          "execution_count": 15
        }
      ]
    },
    {
      "cell_type": "code",
      "metadata": {
        "id": "yO-KCM17YjMc",
        "colab_type": "code",
        "colab": {
          "base_uri": "https://localhost:8080/",
          "height": 82
        },
        "outputId": "793438ac-4184-4fa0-8be8-f076b30f40c4"
      },
      "source": [
        "corr_matrix = df[['fixed acidity', 'pH']].corr(method='pearson')\n",
        "corr_matrix.style.background_gradient(cmap='coolwarm').set_precision(2)"
      ],
      "execution_count": null,
      "outputs": [
        {
          "output_type": "execute_result",
          "data": {
            "text/html": [
              "<style  type=\"text/css\" >\n",
              "    #T_4bab834e_d714_11ea_96f9_0242ac1c0002row0_col0 {\n",
              "            background-color:  #b40426;\n",
              "            color:  #f1f1f1;\n",
              "        }    #T_4bab834e_d714_11ea_96f9_0242ac1c0002row0_col1 {\n",
              "            background-color:  #3b4cc0;\n",
              "            color:  #f1f1f1;\n",
              "        }    #T_4bab834e_d714_11ea_96f9_0242ac1c0002row1_col0 {\n",
              "            background-color:  #3b4cc0;\n",
              "            color:  #f1f1f1;\n",
              "        }    #T_4bab834e_d714_11ea_96f9_0242ac1c0002row1_col1 {\n",
              "            background-color:  #b40426;\n",
              "            color:  #f1f1f1;\n",
              "        }</style><table id=\"T_4bab834e_d714_11ea_96f9_0242ac1c0002\" ><thead>    <tr>        <th class=\"blank level0\" ></th>        <th class=\"col_heading level0 col0\" >fixed acidity</th>        <th class=\"col_heading level0 col1\" >pH</th>    </tr></thead><tbody>\n",
              "                <tr>\n",
              "                        <th id=\"T_4bab834e_d714_11ea_96f9_0242ac1c0002level0_row0\" class=\"row_heading level0 row0\" >fixed acidity</th>\n",
              "                        <td id=\"T_4bab834e_d714_11ea_96f9_0242ac1c0002row0_col0\" class=\"data row0 col0\" >1.00</td>\n",
              "                        <td id=\"T_4bab834e_d714_11ea_96f9_0242ac1c0002row0_col1\" class=\"data row0 col1\" >-0.68</td>\n",
              "            </tr>\n",
              "            <tr>\n",
              "                        <th id=\"T_4bab834e_d714_11ea_96f9_0242ac1c0002level0_row1\" class=\"row_heading level0 row1\" >pH</th>\n",
              "                        <td id=\"T_4bab834e_d714_11ea_96f9_0242ac1c0002row1_col0\" class=\"data row1 col0\" >-0.68</td>\n",
              "                        <td id=\"T_4bab834e_d714_11ea_96f9_0242ac1c0002row1_col1\" class=\"data row1 col1\" >1.00</td>\n",
              "            </tr>\n",
              "    </tbody></table>"
            ],
            "text/plain": [
              "<pandas.io.formats.style.Styler at 0x7fa94af5a0b8>"
            ]
          },
          "metadata": {
            "tags": []
          },
          "execution_count": 16
        }
      ]
    },
    {
      "cell_type": "code",
      "metadata": {
        "id": "lw9llvtTIezT",
        "colab_type": "code",
        "colab": {
          "base_uri": "https://localhost:8080/",
          "height": 352
        },
        "outputId": "5995b0ad-f781-4336-c80c-bd9557165abb"
      },
      "source": [
        "plt.figure(figsize=(9,5))\n",
        "sns.regplot(x='fixed acidity', y='pH', data=df, color='r', x_jitter=0.2)\n",
        "plt.xlabel(\"Fixed Acidity\")\n",
        "plt.ylabel(\"pH\")\n",
        "plt.title(\"Fixed Acidity Vs pH\", fontsize=15)\n",
        "plt.show()"
      ],
      "execution_count": null,
      "outputs": [
        {
          "output_type": "display_data",
          "data": {
            "image/png": "[encoded data removed]",
            "text/plain": [
              "<Figure size 648x360 with 1 Axes>"
            ]
          },
          "metadata": {
            "tags": [],
            "needs_background": "light"
          }
        }
      ]
    },
    {
      "cell_type": "markdown",
      "metadata": {
        "id": "lObbMD53kjqH",
        "colab_type": "text"
      },
      "source": [
        "Sendo assim nesse caso quando o valor de uma variável aumenta o da outra diminui. Isso é o que é chamado de correlação negativa ou inversa, ou seja Existe uma correlação negativa. Quanto maior o \"fixed acidity, menor é o \"pH\"."
      ]
    },
    {
      "cell_type": "markdown",
      "metadata": {
        "colab_type": "text",
        "id": "n19tKa9jSdH8"
      },
      "source": [
        "#### Pergunta 7\n",
        "Mesmo sendo reduzido, é CORRETO dizer sobre o coeficiente de correlação de Pearson entre as variáveis \"quality\" e \"alcohol\":\n",
        "\n",
        "- Para analisar correlação é necessário que o coeficiente seja superior a 1.\n",
        "\n",
        "- ***Quanto maior o teor alcoolico (alcohol), maior é a qualidade do vinho (quality).***\n",
        "\n",
        "- Não é possível dizer nada sobre a correlação entre as vairáveis.\n",
        "\n",
        "- Quanto maior o teor alcoolico (alcohol), menor é a qualidade do vinho (quality)."
      ]
    },
    {
      "cell_type": "code",
      "metadata": {
        "id": "c4MHxdz9lfWd",
        "colab_type": "code",
        "colab": {
          "base_uri": "https://localhost:8080/",
          "height": 111
        },
        "outputId": "79500b8f-c592-40ef-fda2-817103806a09"
      },
      "source": [
        "pearsoncorr = df[['quality', 'alcohol']].corr(method='pearson')\n",
        "pearsoncorr"
      ],
      "execution_count": null,
      "outputs": [
        {
          "output_type": "execute_result",
          "data": {
            "text/html": [
              "<div>\n",
              "<style scoped>\n",
              "    .dataframe tbody tr th:only-of-type {\n",
              "        vertical-align: middle;\n",
              "    }\n",
              "\n",
              "    .dataframe tbody tr th {\n",
              "        vertical-align: top;\n",
              "    }\n",
              "\n",
              "    .dataframe thead th {\n",
              "        text-align: right;\n",
              "    }\n",
              "</style>\n",
              "<table border=\"1\" class=\"dataframe\">\n",
              "  <thead>\n",
              "    <tr style=\"text-align: right;\">\n",
              "      <th></th>\n",
              "      <th>quality</th>\n",
              "      <th>alcohol</th>\n",
              "    </tr>\n",
              "  </thead>\n",
              "  <tbody>\n",
              "    <tr>\n",
              "      <th>quality</th>\n",
              "      <td>1.000000</td>\n",
              "      <td>0.476166</td>\n",
              "    </tr>\n",
              "    <tr>\n",
              "      <th>alcohol</th>\n",
              "      <td>0.476166</td>\n",
              "      <td>1.000000</td>\n",
              "    </tr>\n",
              "  </tbody>\n",
              "</table>\n",
              "</div>"
            ],
            "text/plain": [
              "          quality   alcohol\n",
              "quality  1.000000  0.476166\n",
              "alcohol  0.476166  1.000000"
            ]
          },
          "metadata": {
            "tags": []
          },
          "execution_count": 18
        }
      ]
    },
    {
      "cell_type": "code",
      "metadata": {
        "id": "3IJVbMdslhds",
        "colab_type": "code",
        "colab": {
          "base_uri": "https://localhost:8080/",
          "height": 82
        },
        "outputId": "6bbeca14-8403-4619-c651-08571a8ecce9"
      },
      "source": [
        "corr_matrix = df[['quality', 'alcohol']].corr(method='pearson')\n",
        "corr_matrix.style.background_gradient(cmap='coolwarm').set_precision(2)"
      ],
      "execution_count": null,
      "outputs": [
        {
          "output_type": "execute_result",
          "data": {
            "text/html": [
              "<style  type=\"text/css\" >\n",
              "    #T_4becb68e_d714_11ea_96f9_0242ac1c0002row0_col0 {\n",
              "            background-color:  #b40426;\n",
              "            color:  #f1f1f1;\n",
              "        }    #T_4becb68e_d714_11ea_96f9_0242ac1c0002row0_col1 {\n",
              "            background-color:  #3b4cc0;\n",
              "            color:  #f1f1f1;\n",
              "        }    #T_4becb68e_d714_11ea_96f9_0242ac1c0002row1_col0 {\n",
              "            background-color:  #3b4cc0;\n",
              "            color:  #f1f1f1;\n",
              "        }    #T_4becb68e_d714_11ea_96f9_0242ac1c0002row1_col1 {\n",
              "            background-color:  #b40426;\n",
              "            color:  #f1f1f1;\n",
              "        }</style><table id=\"T_4becb68e_d714_11ea_96f9_0242ac1c0002\" ><thead>    <tr>        <th class=\"blank level0\" ></th>        <th class=\"col_heading level0 col0\" >quality</th>        <th class=\"col_heading level0 col1\" >alcohol</th>    </tr></thead><tbody>\n",
              "                <tr>\n",
              "                        <th id=\"T_4becb68e_d714_11ea_96f9_0242ac1c0002level0_row0\" class=\"row_heading level0 row0\" >quality</th>\n",
              "                        <td id=\"T_4becb68e_d714_11ea_96f9_0242ac1c0002row0_col0\" class=\"data row0 col0\" >1.00</td>\n",
              "                        <td id=\"T_4becb68e_d714_11ea_96f9_0242ac1c0002row0_col1\" class=\"data row0 col1\" >0.48</td>\n",
              "            </tr>\n",
              "            <tr>\n",
              "                        <th id=\"T_4becb68e_d714_11ea_96f9_0242ac1c0002level0_row1\" class=\"row_heading level0 row1\" >alcohol</th>\n",
              "                        <td id=\"T_4becb68e_d714_11ea_96f9_0242ac1c0002row1_col0\" class=\"data row1 col0\" >0.48</td>\n",
              "                        <td id=\"T_4becb68e_d714_11ea_96f9_0242ac1c0002row1_col1\" class=\"data row1 col1\" >1.00</td>\n",
              "            </tr>\n",
              "    </tbody></table>"
            ],
            "text/plain": [
              "<pandas.io.formats.style.Styler at 0x7fa94abb5ef0>"
            ]
          },
          "metadata": {
            "tags": []
          },
          "execution_count": 19
        }
      ]
    },
    {
      "cell_type": "code",
      "metadata": {
        "id": "L7IvN_J7J9-B",
        "colab_type": "code",
        "colab": {
          "base_uri": "https://localhost:8080/",
          "height": 352
        },
        "outputId": "78aaddd4-1017-4662-f632-da0fe7231594"
      },
      "source": [
        "plt.figure(figsize=(9,5))\n",
        "sns.regplot(x='quality', y='alcohol', data=df, x_jitter=0.2, color='r')\n",
        "plt.xlabel(\"quality\")\n",
        "plt.ylabel(\"Alcohol\")\n",
        "plt.title(\"Quality Vs Alcohol\", fontsize=15)\n",
        "plt.show()"
      ],
      "execution_count": null,
      "outputs": [
        {
          "output_type": "display_data",
          "data": {
            "image/png": "[encoded data removed]",
            "text/plain": [
              "<Figure size 648x360 with 1 Axes>"
            ]
          },
          "metadata": {
            "tags": [],
            "needs_background": "light"
          }
        }
      ]
    },
    {
      "cell_type": "markdown",
      "metadata": {
        "colab_type": "text",
        "id": "Nldm8uiNSdOD"
      },
      "source": [
        "#### Pergunta 8\n",
        "Quantas instâncias existem para a qualidade do vinho igual a 5?\n",
        "\n",
        "- 345\n",
        "\n",
        "- ***681***\n",
        "\n",
        "- 53\n",
        "\n",
        "- 638"
      ]
    },
    {
      "cell_type": "code",
      "metadata": {
        "id": "XXVW0igpmngQ",
        "colab_type": "code",
        "colab": {
          "base_uri": "https://localhost:8080/",
          "height": 51
        },
        "outputId": "04f90c6f-2e3a-49bd-a5c0-8b78925facec"
      },
      "source": [
        "df_quality = df[['quality']]\n",
        "df_quality.eq(5).sum()"
      ],
      "execution_count": null,
      "outputs": [
        {
          "output_type": "execute_result",
          "data": {
            "text/plain": [
              "quality    681\n",
              "dtype: int64"
            ]
          },
          "metadata": {
            "tags": []
          },
          "execution_count": 21
        }
      ]
    },
    {
      "cell_type": "code",
      "metadata": {
        "id": "0xdODRIyuUPI",
        "colab_type": "code",
        "colab": {
          "base_uri": "https://localhost:8080/",
          "height": 235
        },
        "outputId": "e73064f0-6b93-4b36-e18e-bfe3845e8305"
      },
      "source": [
        "counts = df['quality'].value_counts().to_frame()\n",
        "counts"
      ],
      "execution_count": null,
      "outputs": [
        {
          "output_type": "execute_result",
          "data": {
            "text/html": [
              "<div>\n",
              "<style scoped>\n",
              "    .dataframe tbody tr th:only-of-type {\n",
              "        vertical-align: middle;\n",
              "    }\n",
              "\n",
              "    .dataframe tbody tr th {\n",
              "        vertical-align: top;\n",
              "    }\n",
              "\n",
              "    .dataframe thead th {\n",
              "        text-align: right;\n",
              "    }\n",
              "</style>\n",
              "<table border=\"1\" class=\"dataframe\">\n",
              "  <thead>\n",
              "    <tr style=\"text-align: right;\">\n",
              "      <th></th>\n",
              "      <th>quality</th>\n",
              "    </tr>\n",
              "  </thead>\n",
              "  <tbody>\n",
              "    <tr>\n",
              "      <th>5</th>\n",
              "      <td>681</td>\n",
              "    </tr>\n",
              "    <tr>\n",
              "      <th>6</th>\n",
              "      <td>638</td>\n",
              "    </tr>\n",
              "    <tr>\n",
              "      <th>7</th>\n",
              "      <td>199</td>\n",
              "    </tr>\n",
              "    <tr>\n",
              "      <th>4</th>\n",
              "      <td>53</td>\n",
              "    </tr>\n",
              "    <tr>\n",
              "      <th>8</th>\n",
              "      <td>18</td>\n",
              "    </tr>\n",
              "    <tr>\n",
              "      <th>3</th>\n",
              "      <td>10</td>\n",
              "    </tr>\n",
              "  </tbody>\n",
              "</table>\n",
              "</div>"
            ],
            "text/plain": [
              "   quality\n",
              "5      681\n",
              "6      638\n",
              "7      199\n",
              "4       53\n",
              "8       18\n",
              "3       10"
            ]
          },
          "metadata": {
            "tags": []
          },
          "execution_count": 22
        }
      ]
    },
    {
      "cell_type": "markdown",
      "metadata": {
        "id": "DzY3PVucM7rn",
        "colab_type": "text"
      },
      "source": [
        "## Preparação dos dados."
      ]
    },
    {
      "cell_type": "code",
      "metadata": {
        "id": "MP5OrzyxQdrn",
        "colab_type": "code",
        "colab": {}
      },
      "source": [
        "# Fatiamento do dataset para normalização, ou seja separa as variáveis preditoras e alvo para posteriormente fazer o treinamento\n",
        "X = df.iloc[:,:-1] # Todas as outras\n",
        "y = df.iloc[:,-1]  # Apenas variável 'quality'"
      ],
      "execution_count": null,
      "outputs": []
    },
    {
      "cell_type": "markdown",
      "metadata": {
        "id": "L_p2RuMXbm3u",
        "colab_type": "text"
      },
      "source": [
        "iloc is for integer based df.iloc[0, 0] </br>\n",
        "loc is primarily label based df.loc[0, 'quality']"
      ]
    },
    {
      "cell_type": "markdown",
      "metadata": {
        "colab_type": "text",
        "id": "9ZS9b4Z9SdU1"
      },
      "source": [
        "#### Pergunta 9\n",
        "Aplique o modelo de normalização MinMaxScaler com os valores \"default\" para os dados de entrada. Qual é o menor valor para a variável \"fixed acidity\"?\n",
        "\n",
        "- 1\n",
        "\n",
        "- ***0***\n",
        "\n",
        "- 15.2\n",
        "\n",
        "- 4,6"
      ]
    },
    {
      "cell_type": "markdown",
      "metadata": {
        "id": "WJrSEHy-8XeD",
        "colab_type": "text"
      },
      "source": [
        "O objetivo da **normalização** é alterar os valores das colunas numéricas no conjunto de dados para uma escala comum, sem distorcer as diferenças nos intervalos de valores. Para o aprendizado de máquina, nem todos os conjuntos de dados requerem normalização. Esse método é necessário apenas quando os parâmetros tiverem intervalos muito diferentes."
      ]
    },
    {
      "cell_type": "markdown",
      "metadata": {
        "id": "I_PRv6sKPlds",
        "colab_type": "text"
      },
      "source": [
        "### Normalização"
      ]
    },
    {
      "cell_type": "code",
      "metadata": {
        "id": "cvnJgCJaze_x",
        "colab_type": "code",
        "colab": {}
      },
      "source": [
        "# normalizzação do dataset, necessário para que os algoritmos possam ter um comportamento mais \"previsível\"\n",
        "from sklearn.preprocessing import MinMaxScaler\n",
        "min_max_scaler = MinMaxScaler() # cria o objeto que realiza a normalização dos dados por meio dos valores mínimos e máximos\n",
        "array_scaler = min_max_scaler.fit_transform(X)  # aplica a escala\n",
        "col = X.columns"
      ],
      "execution_count": null,
      "outputs": []
    },
    {
      "cell_type": "code",
      "metadata": {
        "id": "cMj_bbp3MqKN",
        "colab_type": "code",
        "colab": {
          "base_uri": "https://localhost:8080/",
          "height": 204
        },
        "outputId": "763b418c-25b9-438f-dfaf-a2da056f552c"
      },
      "source": [
        "# DataFrame após a nromalização\n",
        "df_normalizado = pd.DataFrame(array_scaler, columns=col)\n",
        "df_normalizado.head()"
      ],
      "execution_count": null,
      "outputs": [
        {
          "output_type": "execute_result",
          "data": {
            "text/html": [
              "<div>\n",
              "<style scoped>\n",
              "    .dataframe tbody tr th:only-of-type {\n",
              "        vertical-align: middle;\n",
              "    }\n",
              "\n",
              "    .dataframe tbody tr th {\n",
              "        vertical-align: top;\n",
              "    }\n",
              "\n",
              "    .dataframe thead th {\n",
              "        text-align: right;\n",
              "    }\n",
              "</style>\n",
              "<table border=\"1\" class=\"dataframe\">\n",
              "  <thead>\n",
              "    <tr style=\"text-align: right;\">\n",
              "      <th></th>\n",
              "      <th>fixed acidity</th>\n",
              "      <th>volatile acidity</th>\n",
              "      <th>citric acid</th>\n",
              "      <th>residual sugar</th>\n",
              "      <th>chlorides</th>\n",
              "      <th>free sulfur dioxide</th>\n",
              "      <th>total sulfur dioxide</th>\n",
              "      <th>density</th>\n",
              "      <th>pH</th>\n",
              "      <th>sulphates</th>\n",
              "      <th>alcohol</th>\n",
              "    </tr>\n",
              "  </thead>\n",
              "  <tbody>\n",
              "    <tr>\n",
              "      <th>0</th>\n",
              "      <td>0.247788</td>\n",
              "      <td>0.397260</td>\n",
              "      <td>0.00</td>\n",
              "      <td>0.068493</td>\n",
              "      <td>0.106845</td>\n",
              "      <td>0.140845</td>\n",
              "      <td>0.098940</td>\n",
              "      <td>0.567548</td>\n",
              "      <td>0.606299</td>\n",
              "      <td>0.137725</td>\n",
              "      <td>0.153846</td>\n",
              "    </tr>\n",
              "    <tr>\n",
              "      <th>1</th>\n",
              "      <td>0.283186</td>\n",
              "      <td>0.520548</td>\n",
              "      <td>0.00</td>\n",
              "      <td>0.116438</td>\n",
              "      <td>0.143573</td>\n",
              "      <td>0.338028</td>\n",
              "      <td>0.215548</td>\n",
              "      <td>0.494126</td>\n",
              "      <td>0.362205</td>\n",
              "      <td>0.209581</td>\n",
              "      <td>0.215385</td>\n",
              "    </tr>\n",
              "    <tr>\n",
              "      <th>2</th>\n",
              "      <td>0.283186</td>\n",
              "      <td>0.438356</td>\n",
              "      <td>0.04</td>\n",
              "      <td>0.095890</td>\n",
              "      <td>0.133556</td>\n",
              "      <td>0.197183</td>\n",
              "      <td>0.169611</td>\n",
              "      <td>0.508811</td>\n",
              "      <td>0.409449</td>\n",
              "      <td>0.191617</td>\n",
              "      <td>0.215385</td>\n",
              "    </tr>\n",
              "    <tr>\n",
              "      <th>3</th>\n",
              "      <td>0.584071</td>\n",
              "      <td>0.109589</td>\n",
              "      <td>0.56</td>\n",
              "      <td>0.068493</td>\n",
              "      <td>0.105175</td>\n",
              "      <td>0.225352</td>\n",
              "      <td>0.190813</td>\n",
              "      <td>0.582232</td>\n",
              "      <td>0.330709</td>\n",
              "      <td>0.149701</td>\n",
              "      <td>0.215385</td>\n",
              "    </tr>\n",
              "    <tr>\n",
              "      <th>4</th>\n",
              "      <td>0.247788</td>\n",
              "      <td>0.397260</td>\n",
              "      <td>0.00</td>\n",
              "      <td>0.068493</td>\n",
              "      <td>0.106845</td>\n",
              "      <td>0.140845</td>\n",
              "      <td>0.098940</td>\n",
              "      <td>0.567548</td>\n",
              "      <td>0.606299</td>\n",
              "      <td>0.137725</td>\n",
              "      <td>0.153846</td>\n",
              "    </tr>\n",
              "  </tbody>\n",
              "</table>\n",
              "</div>"
            ],
            "text/plain": [
              "   fixed acidity  volatile acidity  citric acid  ...        pH  sulphates   alcohol\n",
              "0       0.247788          0.397260         0.00  ...  0.606299   0.137725  0.153846\n",
              "1       0.283186          0.520548         0.00  ...  0.362205   0.209581  0.215385\n",
              "2       0.283186          0.438356         0.04  ...  0.409449   0.191617  0.215385\n",
              "3       0.584071          0.109589         0.56  ...  0.330709   0.149701  0.215385\n",
              "4       0.247788          0.397260         0.00  ...  0.606299   0.137725  0.153846\n",
              "\n",
              "[5 rows x 11 columns]"
            ]
          },
          "metadata": {
            "tags": []
          },
          "execution_count": 25
        }
      ]
    },
    {
      "cell_type": "code",
      "metadata": {
        "id": "ZTZUvXS1Kz-P",
        "colab_type": "code",
        "colab": {
          "base_uri": "https://localhost:8080/",
          "height": 34
        },
        "outputId": "8f778e59-ce3d-4a51-a227-7c1d80b80ddd"
      },
      "source": [
        "df_normalizado['fixed acidity'].min()"
      ],
      "execution_count": null,
      "outputs": [
        {
          "output_type": "execute_result",
          "data": {
            "text/plain": [
              "0.0"
            ]
          },
          "metadata": {
            "tags": []
          },
          "execution_count": 26
        }
      ]
    },
    {
      "cell_type": "markdown",
      "metadata": {
        "id": "6c6RzGvIgrba",
        "colab_type": "text"
      },
      "source": [
        "## Comparação e ajuste de modelos de classificação."
      ]
    },
    {
      "cell_type": "markdown",
      "metadata": {
        "id": "gsDxxFH0UMOZ",
        "colab_type": "text"
      },
      "source": [
        "### KNN - K-Nearest Neighbor"
      ]
    },
    {
      "cell_type": "markdown",
      "metadata": {
        "colab_type": "text",
        "id": "C_UToRkESdbh"
      },
      "source": [
        "#### Pergunta 10\n",
        "Após dividir o dataset utilizando o método train_test_split(entradas_normalizadas, saida, test_size=0.30, random_state=1). Qual foi a acurária para o KNN?\n",
        "\n",
        "- ***0,56***\n",
        "\n",
        "- 1,2\n",
        "\n",
        "- 0,15\n",
        "\n",
        "- 0,89"
      ]
    },
    {
      "cell_type": "code",
      "metadata": {
        "id": "45Bw2iTjAuAl",
        "colab_type": "code",
        "colab": {}
      },
      "source": [
        "from sklearn.model_selection import train_test_split\n",
        "# df_normalizado - são as variáveis independentes\n",
        "# y - são as variáveis pendentes\n",
        "X_train, X_test, y_train, y_test = train_test_split(df_normalizado, y, test_size=0.3, random_state=1)"
      ],
      "execution_count": null,
      "outputs": []
    },
    {
      "cell_type": "code",
      "metadata": {
        "id": "BiWyC2RtGCdC",
        "colab_type": "code",
        "colab": {
          "base_uri": "https://localhost:8080/",
          "height": 34
        },
        "outputId": "e0d018b2-ab9a-4b0f-f82b-b9bcf3360db4"
      },
      "source": [
        "# Importando o modelo KNN\n",
        "from sklearn.neighbors import KNeighborsClassifier \n",
        "from sklearn.metrics import accuracy_score \n",
        "\n",
        "# Definindo o valor de visinhos, o 5 significa os 5 vizinhos mais próximos\n",
        "clf_KNN = KNeighborsClassifier(n_neighbors=5)  \n",
        "\n",
        "# Treinando o modelo\n",
        "clf_KNN.fit(X_train, y_train)\n",
        "y_knn_pred = clf_KNN.predict(X_test)\n",
        "\n",
        "# Acurácia do modelo KNN\n",
        "acc_knn = accuracy_score(y_test, y_knn_pred)\n",
        "print(f'Acurácia KNN: {acc_knn}')"
      ],
      "execution_count": null,
      "outputs": [
        {
          "output_type": "stream",
          "text": [
            "Acurácia KNN: 0.5645833333333333\n"
          ],
          "name": "stdout"
        }
      ]
    },
    {
      "cell_type": "markdown",
      "metadata": {
        "id": "yO8sL31_VBXT",
        "colab_type": "text"
      },
      "source": [
        "### Decision Tree"
      ]
    },
    {
      "cell_type": "markdown",
      "metadata": {
        "colab_type": "text",
        "id": "gpXFKddgSdhn"
      },
      "source": [
        "#### Pergunta 11\n",
        "Aplicando o algoritmo de árvore de decisão com os parâmetros definidos no enunciado do desafio e a divisão de treinamento e teste como mostrado, anteriormente. Qual é o valor da acurácia?\n",
        "\n",
        "- 0.80\n",
        "\n",
        "- -0.58\n",
        "\n",
        "- ***0.58***\n",
        "\n",
        "- -0.80"
      ]
    },
    {
      "cell_type": "code",
      "metadata": {
        "id": "6ZHju0s3VJuA",
        "colab_type": "code",
        "colab": {
          "base_uri": "https://localhost:8080/",
          "height": 34
        },
        "outputId": "38ddd1a4-c087-4f52-e103-3ede18ee5262"
      },
      "source": [
        "# Importando o modelo Decision Tree\n",
        "from sklearn.tree import DecisionTreeClassifier\n",
        "\n",
        "clf_arvore = DecisionTreeClassifier()\n",
        "\n",
        "# Treinando o modelo\n",
        "clf_arvore.fit(X_train, y_train)\n",
        "y_arvore_pred = clf_arvore.predict(X_test)\n",
        "\n",
        "# Acurácia do modelo Decision Tree\n",
        "acc_tree = accuracy_score(y_test, y_arvore_pred)\n",
        "print(f'Acurácia Decision Tree: {acc_tree}')"
      ],
      "execution_count": null,
      "outputs": [
        {
          "output_type": "stream",
          "text": [
            "Acurácia Decision Tree: 0.6041666666666666\n"
          ],
          "name": "stdout"
        }
      ]
    },
    {
      "cell_type": "markdown",
      "metadata": {
        "id": "9D-D5VveWgdA",
        "colab_type": "text"
      },
      "source": [
        "### Random Forest"
      ]
    },
    {
      "cell_type": "markdown",
      "metadata": {
        "colab_type": "text",
        "id": "Pl6CJlGJSdoQ"
      },
      "source": [
        "#### Pergunta 12\n",
        "Aplicando o algoritmo de floresta randomica com os mesmos parâmetros apresentados no enunciado e mesmos valores treinamento e teste, qual é o valor da acurácia?\n",
        "\n",
        "- 0,40\n",
        "\n",
        "- 0,30\n",
        "\n",
        "- ***0,68***\n",
        "\n",
        "- 1,00"
      ]
    },
    {
      "cell_type": "code",
      "metadata": {
        "id": "8qOL8P5LWdOF",
        "colab_type": "code",
        "colab": {
          "base_uri": "https://localhost:8080/",
          "height": 34
        },
        "outputId": "60b9a804-78eb-4e85-dd25-241ebd64dcb9"
      },
      "source": [
        "# Importando o modelo Random Forest\n",
        "from sklearn.ensemble import RandomForestClassifier\n",
        "\n",
        "clf_floresta = RandomForestClassifier(max_depth=10, random_state=1)\n",
        "\n",
        "# Treinando o modelo\n",
        "clf_floresta.fit(X_train, y_train)\n",
        "y_floresta_pred = clf_floresta.predict(X_test)\n",
        "\n",
        "# Acurácia do modelo Random Forest\n",
        "acc_floresta = accuracy_score(y_test, y_floresta_pred)\n",
        "print(f'Acurácia Random Forest: {acc_floresta}')"
      ],
      "execution_count": null,
      "outputs": [
        {
          "output_type": "stream",
          "text": [
            "Acurácia Random Forest: 0.6791666666666667\n"
          ],
          "name": "stdout"
        }
      ]
    },
    {
      "cell_type": "markdown",
      "metadata": {
        "id": "26GdQo2JXxI_",
        "colab_type": "text"
      },
      "source": [
        "### SVM - Support Vector Machine"
      ]
    },
    {
      "cell_type": "markdown",
      "metadata": {
        "colab_type": "text",
        "id": "h0UOdPvLSdu8"
      },
      "source": [
        "#### Pergunta 13\n",
        "Aplicando o algoritmo SVM para a classificação da qualidade dos vinhos com os mesmos valores anteriores para treinamento e teste, qual é o valor de acurácia obtido?\n",
        "\n",
        "- 0,72\n",
        "\n",
        "- 0,36\n",
        "\n",
        "- 0,15\n",
        "\n",
        "- ***0,59***"
      ]
    },
    {
      "cell_type": "code",
      "metadata": {
        "id": "J7v39o77X8BG",
        "colab_type": "code",
        "colab": {
          "base_uri": "https://localhost:8080/",
          "height": 34
        },
        "outputId": "b64d8059-7d7e-4b2f-b045-f7c94f4caa38"
      },
      "source": [
        "# Importando o modelo SVM\n",
        "from sklearn.svm import SVC\n",
        "\n",
        "clf_svm = SVC(gamma='auto', kernel='rbf')\n",
        "\n",
        "# Treinando o modelo\n",
        "clf_svm.fit(X_train, y_train)\n",
        "y_svm_pred = clf_svm.predict(X_test)\n",
        "\n",
        "# Acurácia do modelo Random Forest\n",
        "acc_svm = accuracy_score(y_test, y_svm_pred)\n",
        "print(f'Acurácia SVM: {acc_svm}')"
      ],
      "execution_count": null,
      "outputs": [
        {
          "output_type": "stream",
          "text": [
            "Acurácia SVM: 0.5854166666666667\n"
          ],
          "name": "stdout"
        }
      ]
    },
    {
      "cell_type": "markdown",
      "metadata": {
        "id": "8smEvTzWYhXy",
        "colab_type": "text"
      },
      "source": [
        "### MLP - Multilayer Perceptron"
      ]
    },
    {
      "cell_type": "markdown",
      "metadata": {
        "colab_type": "text",
        "id": "fir_Fr1zSd2O"
      },
      "source": [
        "#### Pergunta 14\n",
        "Apicando a rede MLP como mostrado no enunciado e com os mesmos dados de treinamento e teste utilizados, qual é a acurácia do modelo?\n",
        "\n",
        "- ***0,60***\n",
        "\n",
        "- 0,90\n",
        "\n",
        "- 0,25\n",
        "\n",
        "- 0,30"
      ]
    },
    {
      "cell_type": "code",
      "metadata": {
        "id": "kYyXnMlZYx6R",
        "colab_type": "code",
        "colab": {
          "base_uri": "https://localhost:8080/",
          "height": 34
        },
        "outputId": "3d1ff7d8-471e-42f1-9396-9752f7a1c333"
      },
      "source": [
        "# Importando o modelo MLP\n",
        "from sklearn.neural_network import MLPClassifier\n",
        "\n",
        "clf_mlp = MLPClassifier(alpha=1e-5, hidden_layer_sizes=(5, 5), random_state=1)\n",
        "\n",
        "# Treinando o modelo\n",
        "clf_mlp.fit(X_train, y_train)\n",
        "y_mlp_pred = clf_mlp.predict(X_test)\n",
        "\n",
        "# Acurácia do modelo MLP\n",
        "acc_mlp = accuracy_score(y_test, y_mlp_pred)\n",
        "print(f'Acurácia MLP: {acc_mlp}')"
      ],
      "execution_count": null,
      "outputs": [
        {
          "output_type": "stream",
          "text": [
            "Acurácia MLP: 0.6\n"
          ],
          "name": "stdout"
        }
      ]
    },
    {
      "cell_type": "markdown",
      "metadata": {
        "colab_type": "text",
        "id": "3PCq5ppBSd9f"
      },
      "source": [
        "#### Pergunta 15\n",
        "Modifique o dataset para um sistema binário que considere vinhos com nota maior do que 5 (6, 7, 8) sejam bons e menores ou igual a 5 ruins (5, 4, 3). Aplique o modelo da floresta randômica. Qual a acurácia do modelo para esse novo dataset?\n",
        "\n",
        "- ***0,80***\n",
        "\n",
        "- 0,50\n",
        "\n",
        "- 0,68\n",
        "\n",
        "- 0,60"
      ]
    },
    {
      "cell_type": "code",
      "metadata": {
        "id": "mWpldb0QZvOV",
        "colab_type": "code",
        "colab": {}
      },
      "source": [
        "# Modificando o dataset para um sistema binário\n",
        "df_modify = df.copy()"
      ],
      "execution_count": null,
      "outputs": []
    },
    {
      "cell_type": "code",
      "metadata": {
        "id": "o_fs9a7XZx9U",
        "colab_type": "code",
        "colab": {}
      },
      "source": [
        "# Fazendo o fatiamento do dataset\n",
        "X_mod = df_modify.iloc[:,:11]\n",
        "y_mod = df_modify.quality"
      ],
      "execution_count": null,
      "outputs": []
    },
    {
      "cell_type": "code",
      "metadata": {
        "id": "Zs5Q0vfqZzpF",
        "colab_type": "code",
        "colab": {}
      },
      "source": [
        "# Criando um dicionário a partir das variáveis\n",
        "Y_mod = y_mod.replace({6:1, 7:1, 8:1, 5:0, 4:0, 3:0})"
      ],
      "execution_count": null,
      "outputs": []
    },
    {
      "cell_type": "code",
      "metadata": {
        "id": "svql7nVAf9Go",
        "colab_type": "code",
        "colab": {
          "base_uri": "https://localhost:8080/",
          "height": 221
        },
        "outputId": "2580f619-9659-4fb1-be08-893d1877a31d"
      },
      "source": [
        "Y_mod"
      ],
      "execution_count": null,
      "outputs": [
        {
          "output_type": "execute_result",
          "data": {
            "text/plain": [
              "0       0\n",
              "1       0\n",
              "2       0\n",
              "3       1\n",
              "4       0\n",
              "       ..\n",
              "1594    0\n",
              "1595    1\n",
              "1596    1\n",
              "1597    0\n",
              "1598    1\n",
              "Name: quality, Length: 1599, dtype: int64"
            ]
          },
          "metadata": {
            "tags": []
          },
          "execution_count": 36
        }
      ]
    },
    {
      "cell_type": "code",
      "metadata": {
        "id": "rTzRIskdZ1QF",
        "colab_type": "code",
        "colab": {}
      },
      "source": [
        "# normalizzação do dataset, necessário para que os algoritmos possam ter um comportamento mais \"previsível\"\n",
        "from sklearn.preprocessing import MinMaxScaler\n",
        "min_max_scaler = MinMaxScaler() # cria o objeto que realiza a normalização dos dados por meio dos valores mínimos e máximos\n",
        "array_scaler = min_max_scaler.fit_transform(X_mod) # aplica a escala"
      ],
      "execution_count": null,
      "outputs": []
    },
    {
      "cell_type": "code",
      "metadata": {
        "id": "25jg5U3teTUL",
        "colab_type": "code",
        "colab": {
          "base_uri": "https://localhost:8080/",
          "height": 204
        },
        "outputId": "6d4ce748-c361-4603-fac8-e0b33905d382"
      },
      "source": [
        "# DataFrame após a nromalização\n",
        "df_mod = pd.DataFrame(array_scaler, columns = X_mod.columns)\n",
        "df_mod.head()"
      ],
      "execution_count": null,
      "outputs": [
        {
          "output_type": "execute_result",
          "data": {
            "text/html": [
              "<div>\n",
              "<style scoped>\n",
              "    .dataframe tbody tr th:only-of-type {\n",
              "        vertical-align: middle;\n",
              "    }\n",
              "\n",
              "    .dataframe tbody tr th {\n",
              "        vertical-align: top;\n",
              "    }\n",
              "\n",
              "    .dataframe thead th {\n",
              "        text-align: right;\n",
              "    }\n",
              "</style>\n",
              "<table border=\"1\" class=\"dataframe\">\n",
              "  <thead>\n",
              "    <tr style=\"text-align: right;\">\n",
              "      <th></th>\n",
              "      <th>fixed acidity</th>\n",
              "      <th>volatile acidity</th>\n",
              "      <th>citric acid</th>\n",
              "      <th>residual sugar</th>\n",
              "      <th>chlorides</th>\n",
              "      <th>free sulfur dioxide</th>\n",
              "      <th>total sulfur dioxide</th>\n",
              "      <th>density</th>\n",
              "      <th>pH</th>\n",
              "      <th>sulphates</th>\n",
              "      <th>alcohol</th>\n",
              "    </tr>\n",
              "  </thead>\n",
              "  <tbody>\n",
              "    <tr>\n",
              "      <th>0</th>\n",
              "      <td>0.247788</td>\n",
              "      <td>0.397260</td>\n",
              "      <td>0.00</td>\n",
              "      <td>0.068493</td>\n",
              "      <td>0.106845</td>\n",
              "      <td>0.140845</td>\n",
              "      <td>0.098940</td>\n",
              "      <td>0.567548</td>\n",
              "      <td>0.606299</td>\n",
              "      <td>0.137725</td>\n",
              "      <td>0.153846</td>\n",
              "    </tr>\n",
              "    <tr>\n",
              "      <th>1</th>\n",
              "      <td>0.283186</td>\n",
              "      <td>0.520548</td>\n",
              "      <td>0.00</td>\n",
              "      <td>0.116438</td>\n",
              "      <td>0.143573</td>\n",
              "      <td>0.338028</td>\n",
              "      <td>0.215548</td>\n",
              "      <td>0.494126</td>\n",
              "      <td>0.362205</td>\n",
              "      <td>0.209581</td>\n",
              "      <td>0.215385</td>\n",
              "    </tr>\n",
              "    <tr>\n",
              "      <th>2</th>\n",
              "      <td>0.283186</td>\n",
              "      <td>0.438356</td>\n",
              "      <td>0.04</td>\n",
              "      <td>0.095890</td>\n",
              "      <td>0.133556</td>\n",
              "      <td>0.197183</td>\n",
              "      <td>0.169611</td>\n",
              "      <td>0.508811</td>\n",
              "      <td>0.409449</td>\n",
              "      <td>0.191617</td>\n",
              "      <td>0.215385</td>\n",
              "    </tr>\n",
              "    <tr>\n",
              "      <th>3</th>\n",
              "      <td>0.584071</td>\n",
              "      <td>0.109589</td>\n",
              "      <td>0.56</td>\n",
              "      <td>0.068493</td>\n",
              "      <td>0.105175</td>\n",
              "      <td>0.225352</td>\n",
              "      <td>0.190813</td>\n",
              "      <td>0.582232</td>\n",
              "      <td>0.330709</td>\n",
              "      <td>0.149701</td>\n",
              "      <td>0.215385</td>\n",
              "    </tr>\n",
              "    <tr>\n",
              "      <th>4</th>\n",
              "      <td>0.247788</td>\n",
              "      <td>0.397260</td>\n",
              "      <td>0.00</td>\n",
              "      <td>0.068493</td>\n",
              "      <td>0.106845</td>\n",
              "      <td>0.140845</td>\n",
              "      <td>0.098940</td>\n",
              "      <td>0.567548</td>\n",
              "      <td>0.606299</td>\n",
              "      <td>0.137725</td>\n",
              "      <td>0.153846</td>\n",
              "    </tr>\n",
              "  </tbody>\n",
              "</table>\n",
              "</div>"
            ],
            "text/plain": [
              "   fixed acidity  volatile acidity  citric acid  ...        pH  sulphates   alcohol\n",
              "0       0.247788          0.397260         0.00  ...  0.606299   0.137725  0.153846\n",
              "1       0.283186          0.520548         0.00  ...  0.362205   0.209581  0.215385\n",
              "2       0.283186          0.438356         0.04  ...  0.409449   0.191617  0.215385\n",
              "3       0.584071          0.109589         0.56  ...  0.330709   0.149701  0.215385\n",
              "4       0.247788          0.397260         0.00  ...  0.606299   0.137725  0.153846\n",
              "\n",
              "[5 rows x 11 columns]"
            ]
          },
          "metadata": {
            "tags": []
          },
          "execution_count": 38
        }
      ]
    },
    {
      "cell_type": "code",
      "metadata": {
        "id": "YaZwVgG-en5E",
        "colab_type": "code",
        "colab": {}
      },
      "source": [
        "from sklearn.model_selection import train_test_split\n",
        "# df_mod - são as variáveis independentes\n",
        "# Y_mod - são as variáveis pendentes\n",
        "X_train, X_test, y_train, y_test = train_test_split(df_mod, Y_mod, test_size=0.3, random_state=1)"
      ],
      "execution_count": null,
      "outputs": []
    },
    {
      "cell_type": "code",
      "metadata": {
        "id": "03CYBZKmfg5b",
        "colab_type": "code",
        "colab": {
          "base_uri": "https://localhost:8080/",
          "height": 34
        },
        "outputId": "7de24f88-7923-47ee-b09f-9ef9629e4451"
      },
      "source": [
        "# Importando o modelo Random Forest\n",
        "from sklearn.ensemble import RandomForestClassifier\n",
        "\n",
        "clf_floresta_mod = RandomForestClassifier(max_depth=10, random_state=1)\n",
        "\n",
        "# Treinando o modelo\n",
        "clf_floresta_mod.fit(X_train, y_train)\n",
        "y_floresta_mod_pred = clf_floresta_mod.predict(X_test)\n",
        "\n",
        "# Acurácia do modelo Random Forest\n",
        "acc_floresta_mod = accuracy_score(y_test, y_floresta_mod_pred)\n",
        "print(f'Acurácia Random Forest Modificada: {acc_floresta_mod}')"
      ],
      "execution_count": null,
      "outputs": [
        {
          "output_type": "stream",
          "text": [
            "Acurácia Random Forest Modificada: 0.8041666666666667\n"
          ],
          "name": "stdout"
        }
      ]
    }
  ]
}